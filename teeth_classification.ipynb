{
 "cells": [
  {
   "cell_type": "code",
   "execution_count": 225,
   "metadata": {
    "collapsed": true
   },
   "outputs": [],
   "source": [
    "import os\n",
    "import numpy as np\n",
    "import tensorflow as tf\n",
    "import skimage.io\n",
    "import skimage.transform\n",
    "import matplotlib.pyplot as plt\n",
    "%matplotlib inline"
   ]
  },
  {
   "cell_type": "markdown",
   "metadata": {
    "collapsed": true
   },
   "source": [
    "# Get data"
   ]
  },
  {
   "cell_type": "code",
   "execution_count": 314,
   "metadata": {
    "collapsed": true
   },
   "outputs": [],
   "source": [
    "IMG_SIZE = 32\n",
    "FEATURE_SIZE = 50"
   ]
  },
  {
   "cell_type": "code",
   "execution_count": 315,
   "metadata": {
    "collapsed": true
   },
   "outputs": [],
   "source": [
    "def load_img(path):\n",
    "    img = skimage.io.imread(path)\n",
    "    img = img / 255.0\n",
    "    # print \"Original Image Shape: \", img.shape\n",
    "    # we crop image from center\n",
    "    short_edge = min(img.shape[:2])\n",
    "    yy = int((img.shape[0] - short_edge) / 2)\n",
    "    xx = int((img.shape[1] - short_edge) / 2)\n",
    "    crop_img = img[yy: yy + short_edge, xx: xx + short_edge]\n",
    "    # resize to 224, 224\n",
    "    resized_img = skimage.transform.resize(crop_img, (IMG_SIZE, IMG_SIZE))[None, :, :, :]   # shape [1, 224, 224, 3]\n",
    "#    resized_img = skimage.transform.resize(crop_img, (32, 32))[None, :, :, :]   # shape [1, 32, 32, 3]\n",
    "    return resized_img"
   ]
  },
  {
   "cell_type": "code",
   "execution_count": 316,
   "metadata": {},
   "outputs": [],
   "source": [
    "def load_data(image_dir, part_dir_list):\n",
    "    image_list = []\n",
    "    label_list = []\n",
    "    feat_list = []\n",
    "    for k in range(len(part_dir_list)):\n",
    "        part_name = part_dir_list[k]\n",
    "        dir = image_dir + part_name\n",
    "        for file in os.listdir(dir):\n",
    "            if not file.lower().endswith('.jpg'):\n",
    "                continue\n",
    "            try:\n",
    "                resized_img = load_img(os.path.join(dir, file))\n",
    "            except OSError:\n",
    "                continue\n",
    "            image_list.append(resized_img)    # [1, height, width, depth] * n\n",
    "            \n",
    "            tag = np.zeros((1, len(part_dir_list)))\n",
    "            tag[0][k] = 1\n",
    "            label_list.append(tag)\n",
    "            \n",
    "            feature = np.full((1, FEATURE_SIZE), k/1.0)\n",
    "            feat_list.append(feature)\n",
    "\n",
    "#            if len(imgs[k]) == 400:        # only use 400 imgs to reduce my memory load\n",
    "#                break\n",
    "    \n",
    "    image_data = np.concatenate(image_list, axis=0)\n",
    "    label_data = np.concatenate(label_list, axis=0)\n",
    "    feat_data = np.concatenate(feat_list, axis=0)\n",
    "    \n",
    "    return image_data, label_data, feat_data"
   ]
  },
  {
   "cell_type": "code",
   "execution_count": 317,
   "metadata": {
    "collapsed": true
   },
   "outputs": [],
   "source": [
    "train_image_dir = 'train_img/'\n",
    "test_image_dir = 'test_img/'"
   ]
  },
  {
   "cell_type": "code",
   "execution_count": 318,
   "metadata": {
    "collapsed": true
   },
   "outputs": [],
   "source": [
    "part_list = ['out', 'in']"
   ]
  },
  {
   "cell_type": "code",
   "execution_count": 319,
   "metadata": {},
   "outputs": [
    {
     "name": "stderr",
     "output_type": "stream",
     "text": [
      "/Users/yu-hsunchen/anaconda3/envs/tfdeeplearning/lib/python3.5/site-packages/skimage/transform/_warps.py:105: UserWarning: The default mode, 'constant', will be changed to 'reflect' in skimage 0.15.\n",
      "  warn(\"The default mode, 'constant', will be changed to 'reflect' in \"\n",
      "/Users/yu-hsunchen/anaconda3/envs/tfdeeplearning/lib/python3.5/site-packages/skimage/transform/_warps.py:110: UserWarning: Anti-aliasing will be enabled by default in skimage 0.15 to avoid aliasing artifacts when down-sampling images.\n",
      "  warn(\"Anti-aliasing will be enabled by default in skimage 0.15 to \"\n"
     ]
    }
   ],
   "source": [
    "train_dataset, label_dataset, feature_dataset = load_data(train_image_dir, part_dir_list=part_list)\n",
    "test_dataset, test_label, test_feature = load_data(test_image_dir, part_dir_list=part_list)"
   ]
  },
  {
   "cell_type": "code",
   "execution_count": 320,
   "metadata": {},
   "outputs": [
    {
     "data": {
      "text/plain": [
       "(96, 32, 32, 3)"
      ]
     },
     "execution_count": 320,
     "metadata": {},
     "output_type": "execute_result"
    }
   ],
   "source": [
    "train_dataset.shape"
   ]
  },
  {
   "cell_type": "code",
   "execution_count": 321,
   "metadata": {},
   "outputs": [
    {
     "data": {
      "text/plain": [
       "array([ 1.,  0.])"
      ]
     },
     "execution_count": 321,
     "metadata": {},
     "output_type": "execute_result"
    }
   ],
   "source": [
    "label_dataset\n",
    "label_dataset.shape\n",
    "label_dataset[2]"
   ]
  },
  {
   "cell_type": "code",
   "execution_count": 322,
   "metadata": {},
   "outputs": [
    {
     "data": {
      "text/plain": [
       "(96, 50)"
      ]
     },
     "execution_count": 322,
     "metadata": {},
     "output_type": "execute_result"
    }
   ],
   "source": [
    "feature_dataset.shape\n",
    "#train_feature[55]"
   ]
  },
  {
   "cell_type": "code",
   "execution_count": 323,
   "metadata": {},
   "outputs": [
    {
     "data": {
      "text/plain": [
       "<matplotlib.image.AxesImage at 0x1c282a3358>"
      ]
     },
     "execution_count": 323,
     "metadata": {},
     "output_type": "execute_result"
    },
    {
     "data": {
      "image/png": "[encoded data removed]",
      "text/plain": [
       "<matplotlib.figure.Figure at 0x1c2793db38>"
      ]
     },
     "metadata": {},
     "output_type": "display_data"
    }
   ],
   "source": [
    "plt.imshow(train_dataset[2])"
   ]
  },
  {
   "cell_type": "markdown",
   "metadata": {
    "collapsed": true
   },
   "source": [
    "# Model"
   ]
  },
  {
   "cell_type": "code",
   "execution_count": 324,
   "metadata": {
    "collapsed": true
   },
   "outputs": [],
   "source": [
    "import tensorflow as tf"
   ]
  },
  {
   "cell_type": "code",
   "execution_count": 345,
   "metadata": {
    "collapsed": true
   },
   "outputs": [],
   "source": [
    "x = tf.placeholder(tf.float32,shape=[None, IMG_SIZE, IMG_SIZE, 3])\n",
    "#x = tf.placeholder(tf.float32,shape=[None,32,32,3])\n",
    "y_true = tf.placeholder(tf.float32,shape=[None,len(part_list)])\n",
    "x_feat = tf.placeholder(tf.float32,shape=[None,FEATURE_SIZE])"
   ]
  },
  {
   "cell_type": "code",
   "execution_count": 346,
   "metadata": {
    "collapsed": true
   },
   "outputs": [],
   "source": [
    "hold_prob = tf.placeholder(tf.float32)"
   ]
  },
  {
   "cell_type": "code",
   "execution_count": 347,
   "metadata": {
    "collapsed": true
   },
   "outputs": [],
   "source": [
    "def init_weights(shape):\n",
    "    init_random_dist = tf.truncated_normal(shape, stddev=0.1)\n",
    "    return tf.Variable(init_random_dist)\n",
    "\n",
    "def init_bias(shape):\n",
    "    init_bias_vals = tf.constant(0.1, shape=shape)\n",
    "    return tf.Variable(init_bias_vals)\n",
    "\n",
    "def conv2d(x, W):\n",
    "    return tf.nn.conv2d(x, W, strides=[1, 1, 1, 1], padding='SAME')\n",
    "\n",
    "def max_pool_2by2(x):\n",
    "    return tf.nn.max_pool(x, ksize=[1, 2, 2, 1],\n",
    "                          strides=[1, 2, 2, 1], padding='SAME')\n",
    "\n",
    "def convolutional_layer(input_x, shape):\n",
    "    W = init_weights(shape)\n",
    "    b = init_bias([shape[3]])\n",
    "    return tf.nn.relu(conv2d(input_x, W) + b)\n",
    "\n",
    "def normal_full_layer(input_layer, size):\n",
    "    input_size = int(input_layer.get_shape()[1])\n",
    "    W = init_weights([input_size, size])\n",
    "    b = init_bias([size])\n",
    "    return tf.matmul(input_layer, W) + b"
   ]
  },
  {
   "cell_type": "markdown",
   "metadata": {
    "collapsed": true
   },
   "source": [
    "# Create layers"
   ]
  },
  {
   "cell_type": "code",
   "execution_count": 348,
   "metadata": {
    "collapsed": true
   },
   "outputs": [],
   "source": [
    "convo_1 = convolutional_layer(x,shape=[4,4,3,32])\n",
    "convo_1_pooling = max_pool_2by2(convo_1)"
   ]
  },
  {
   "cell_type": "code",
   "execution_count": 349,
   "metadata": {
    "collapsed": true
   },
   "outputs": [],
   "source": [
    "convo_2 = convolutional_layer(convo_1_pooling,shape=[4,4,32,64])\n",
    "convo_2_pooling = max_pool_2by2(convo_2)"
   ]
  },
  {
   "cell_type": "code",
   "execution_count": 350,
   "metadata": {
    "collapsed": true
   },
   "outputs": [],
   "source": [
    "#convo_2_flat = tf.reshape(convo_2_pooling, [-1, 8*8*64])  #example\n",
    "size = (int)(IMG_SIZE/4)\n",
    "convo_2_flat = tf.reshape(convo_2_pooling, [-1, size*size*64])"
   ]
  },
  {
   "cell_type": "code",
   "execution_count": 351,
   "metadata": {
    "collapsed": true
   },
   "outputs": [],
   "source": [
    "#convo_2_flat_ext = tf.concat( [convo_2_flat, x_feat ], 1 )"
   ]
  },
  {
   "cell_type": "code",
   "execution_count": 352,
   "metadata": {
    "collapsed": true
   },
   "outputs": [],
   "source": [
    "full_layer_one = tf.nn.relu(normal_full_layer(convo_2_flat, 1024))"
   ]
  },
  {
   "cell_type": "code",
   "execution_count": 353,
   "metadata": {
    "collapsed": true
   },
   "outputs": [],
   "source": [
    "full_one_dropout = tf.nn.dropout(full_layer_one,keep_prob=hold_prob)"
   ]
  },
  {
   "cell_type": "code",
   "execution_count": 354,
   "metadata": {
    "collapsed": true
   },
   "outputs": [],
   "source": [
    "full_feature = tf.concat( [full_one_dropout, x_feat], 1 )"
   ]
  },
  {
   "cell_type": "code",
   "execution_count": 355,
   "metadata": {},
   "outputs": [],
   "source": [
    "#y_pred = normal_full_layer(full_one_dropout,len(part_list))\n",
    "y_pred = normal_full_layer(full_feature, len(part_list))"
   ]
  },
  {
   "cell_type": "code",
   "execution_count": 356,
   "metadata": {
    "collapsed": true
   },
   "outputs": [],
   "source": [
    "cross_entropy = tf.reduce_mean(tf.nn.softmax_cross_entropy_with_logits(labels=y_true,logits=y_pred))"
   ]
  },
  {
   "cell_type": "code",
   "execution_count": 357,
   "metadata": {
    "collapsed": true
   },
   "outputs": [],
   "source": [
    "optimizer = tf.train.AdamOptimizer(learning_rate=0.001)\n",
    "train = optimizer.minimize(cross_entropy)"
   ]
  },
  {
   "cell_type": "code",
   "execution_count": 358,
   "metadata": {
    "collapsed": true
   },
   "outputs": [],
   "source": [
    "init = tf.global_variables_initializer()"
   ]
  },
  {
   "cell_type": "markdown",
   "metadata": {
    "collapsed": true
   },
   "source": [
    "# Graph session"
   ]
  },
  {
   "cell_type": "code",
   "execution_count": 359,
   "metadata": {},
   "outputs": [
    {
     "name": "stdout",
     "output_type": "stream",
     "text": [
      "y shape =  (2, 2)\n",
      "f shape =  (2, 50)\n",
      "Currently on step 0\n",
      "Accuracy is:\n",
      "0.5\n",
      "\n",
      "\n"
     ]
    },
    {
     "ename": "ResourceExhaustedError",
     "evalue": "output/teeth_learn.data-00000-of-00001.tempstate13710403035858702885; No space left on device\n\t [[Node: save_23/SaveV2 = SaveV2[dtypes=[DT_FLOAT, DT_FLOAT, DT_FLOAT, DT_FLOAT, DT_FLOAT, DT_FLOAT, DT_FLOAT, DT_FLOAT, DT_FLOAT, DT_FLOAT, DT_FLOAT, DT_FLOAT, DT_FLOAT, DT_FLOAT, DT_FLOAT, DT_FLOAT, DT_FLOAT, DT_FLOAT, DT_FLOAT, DT_FLOAT, DT_FLOAT, DT_FLOAT, DT_FLOAT, DT_FLOAT, DT_FLOAT, DT_FLOAT, DT_FLOAT, DT_FLOAT, DT_FLOAT, DT_FLOAT, DT_FLOAT, DT_FLOAT, DT_FLOAT, DT_FLOAT, DT_FLOAT, DT_FLOAT, DT_FLOAT, DT_FLOAT, DT_FLOAT, DT_FLOAT, DT_FLOAT, DT_FLOAT, DT_FLOAT, DT_FLOAT, DT_FLOAT, DT_FLOAT, DT_FLOAT, DT_FLOAT, DT_FLOAT, DT_FLOAT, DT_FLOAT, DT_FLOAT, DT_FLOAT, DT_FLOAT, DT_FLOAT, DT_FLOAT, DT_FLOAT, DT_FLOAT, DT_FLOAT, DT_FLOAT, DT_FLOAT, DT_FLOAT, DT_FLOAT, DT_FLOAT, DT_FLOAT, DT_FLOAT, DT_FLOAT, DT_FLOAT, DT_FLOAT, DT_FLOAT, DT_FLOAT, DT_FLOAT, DT_FLOAT, DT_FLOAT, DT_FLOAT, DT_FLOAT, DT_FLOAT, DT_FLOAT, DT_FLOAT, DT_FLOAT, DT_FLOAT, DT_FLOAT, DT_FLOAT, DT_FLOAT, DT_FLOAT, DT_FLOAT, DT_FLOAT, DT_FLOAT, DT_FLOAT, DT_FLOAT, DT_FLOAT, DT_FLOAT, DT_FLOAT, DT_FLOAT, DT_FLOAT, DT_FLOAT, DT_FLOAT, DT_FLOAT, DT_FLOAT, DT_FLOAT, DT_FLOAT, DT_FLOAT, DT_FLOAT, DT_FLOAT, DT_FLOAT, DT_FLOAT, DT_FLOAT, DT_FLOAT, DT_FLOAT, DT_FLOAT, DT_FLOAT, DT_FLOAT, DT_FLOAT, DT_FLOAT, DT_FLOAT, DT_FLOAT, DT_FLOAT, DT_FLOAT, DT_FLOAT, DT_FLOAT, DT_FLOAT, DT_FLOAT, DT_FLOAT, DT_FLOAT, DT_FLOAT, DT_FLOAT, DT_FLOAT, DT_FLOAT, DT_FLOAT, DT_FLOAT, DT_FLOAT, DT_FLOAT, DT_FLOAT, DT_FLOAT, DT_FLOAT, DT_FLOAT, DT_FLOAT, DT_FLOAT, DT_FLOAT, DT_FLOAT, DT_FLOAT, DT_FLOAT, DT_FLOAT, DT_FLOAT, DT_FLOAT, DT_FLOAT, DT_FLOAT, DT_FLOAT, DT_FLOAT, DT_FLOAT, DT_FLOAT, DT_FLOAT, DT_FLOAT, DT_FLOAT, DT_FLOAT, DT_FLOAT, DT_FLOAT, DT_FLOAT, DT_FLOAT, DT_FLOAT, DT_FLOAT, DT_FLOAT, DT_FLOAT, DT_FLOAT, DT_FLOAT, DT_FLOAT, DT_FLOAT, DT_FLOAT, DT_FLOAT, DT_FLOAT, DT_FLOAT, DT_FLOAT, DT_FLOAT, DT_FLOAT, DT_FLOAT, DT_FLOAT, DT_FLOAT, DT_FLOAT, DT_FLOAT, DT_FLOAT, DT_FLOAT, DT_FLOAT, DT_FLOAT, DT_FLOAT, DT_FLOAT, DT_FLOAT, DT_FLOAT, DT_FLOAT, DT_FLOAT, DT_FLOAT, DT_FLOAT, DT_FLOAT, DT_FLOAT, DT_FLOAT, DT_FLOAT, DT_FLOAT, DT_FLOAT, DT_FLOAT, DT_FLOAT, DT_FLOAT, DT_FLOAT, DT_FLOAT, DT_FLOAT, DT_FLOAT, DT_FLOAT, DT_FLOAT, DT_FLOAT, DT_FLOAT, DT_FLOAT, DT_FLOAT, DT_FLOAT, DT_FLOAT, DT_FLOAT, DT_FLOAT, DT_FLOAT, DT_FLOAT, DT_FLOAT, DT_FLOAT, DT_FLOAT, DT_FLOAT, DT_FLOAT, DT_FLOAT, DT_FLOAT, DT_FLOAT, DT_FLOAT, DT_FLOAT, DT_FLOAT, DT_FLOAT, DT_FLOAT, DT_FLOAT, DT_FLOAT, DT_FLOAT, DT_FLOAT, DT_FLOAT, DT_FLOAT, DT_FLOAT, DT_FLOAT, DT_FLOAT, DT_FLOAT, DT_FLOAT, DT_FLOAT, DT_FLOAT, DT_FLOAT, DT_FLOAT, DT_FLOAT, DT_FLOAT, DT_FLOAT, DT_FLOAT, DT_FLOAT, DT_FLOAT, DT_FLOAT, DT_FLOAT, DT_FLOAT, DT_FLOAT, DT_FLOAT, DT_FLOAT, DT_FLOAT, DT_FLOAT, DT_FLOAT, DT_FLOAT, DT_FLOAT, DT_FLOAT, DT_FLOAT, DT_FLOAT, DT_FLOAT, DT_FLOAT, DT_FLOAT, DT_FLOAT, DT_FLOAT, DT_FLOAT, DT_FLOAT, DT_FLOAT, DT_FLOAT, DT_FLOAT, DT_FLOAT, DT_FLOAT, DT_FLOAT, DT_FLOAT, DT_FLOAT, DT_FLOAT, DT_FLOAT, DT_FLOAT, DT_FLOAT, DT_FLOAT, DT_FLOAT, DT_FLOAT, DT_FLOAT, DT_FLOAT, DT_FLOAT, DT_FLOAT, DT_FLOAT, DT_FLOAT, DT_FLOAT, DT_FLOAT, DT_FLOAT, DT_FLOAT, DT_FLOAT, DT_FLOAT, DT_FLOAT, DT_FLOAT, DT_FLOAT, DT_FLOAT, DT_FLOAT, DT_FLOAT, DT_FLOAT, DT_FLOAT, DT_FLOAT, DT_FLOAT, DT_FLOAT, DT_FLOAT, DT_FLOAT, DT_FLOAT, DT_FLOAT, DT_FLOAT, DT_FLOAT, DT_FLOAT, DT_FLOAT, DT_FLOAT, DT_FLOAT, DT_FLOAT, DT_FLOAT, DT_FLOAT, DT_FLOAT, DT_FLOAT, DT_FLOAT, DT_FLOAT, DT_FLOAT, DT_FLOAT], _device=\"/job:localhost/replica:0/task:0/device:CPU:0\"](_arg_save_23/Const_0_0, save_23/SaveV2/tensor_names, save_23/SaveV2/shape_and_slices, Variable, Variable/Adam, Variable/Adam_1, Variable_1, Variable_1/Adam, Variable_1/Adam_1, Variable_10, Variable_10/Adam, Variable_10/Adam_1, Variable_11, Variable_11/Adam, Variable_11/Adam_1, Variable_12, Variable_12/Adam, Variable_12/Adam_1, Variable_13, Variable_13/Adam, Variable_13/Adam_1, Variable_14, Variable_14/Adam, Variable_14/Adam_1, Variable_15, Variable_15/Adam, Variable_15/Adam_1, Variable_16, Variable_16/Adam, Variable_16/Adam_1, Variable_17, Variable_17/Adam, Variable_17/Adam_1, Variable_18, Variable_18/Adam, Variable_18/Adam_1, Variable_19, Variable_19/Adam, Variable_19/Adam_1, Variable_2, Variable_2/Adam, Variable_2/Adam_1, Variable_20, Variable_20/Adam, Variable_20/Adam_1, Variable_21, Variable_21/Adam, Variable_21/Adam_1, Variable_22, Variable_22/Adam, Variable_22/Adam_1, Variable_23, Variable_23/Adam, Variable_23/Adam_1, Variable_24, Variable_24/Adam, Variable_24/Adam_1, Variable_24/Adam_2, Variable_24/Adam_3, Variable_25, Variable_25/Adam, Variable_25/Adam_1, Variable_25/Adam_2, Variable_25/Adam_3, Variable_26, Variable_26/Adam, Variable_26/Adam_1, Variable_26/Adam_2, Variable_26/Adam_3, Variable_27, Variable_27/Adam, Variable_27/Adam_1, Variable_27/Adam_2, Variable_27/Adam_3, Variable_28, Variable_28/Adam, Variable_28/Adam_1, Variable_29, Variable_29/Adam, Variable_29/Adam_1, Variable_3, Variable_3/Adam, Variable_3/Adam_1, Variable_30, Variable_30/Adam, Variable_30/Adam_1, Variable_31, Variable_31/Adam, Variable_31/Adam_1, Variable_32, Variable_32/Adam, Variable_32/Adam_1, Variable_33, Variable_33/Adam, Variable_33/Adam_1, Variable_34, Variable_34/Adam, Variable_34/Adam_1, Variable_35, Variable_35/Adam, Variable_35/Adam_1, Variable_36, Variable_36/Adam, Variable_36/Adam_1, Variable_37, Variable_37/Adam, Variable_37/Adam_1, Variable_38, Variable_38/Adam, Variable_38/Adam_1, Variable_39, Variable_39/Adam, Variable_39/Adam_1, Variable_4, Variable_4/Adam, Variable_4/Adam_1, Variable_40, Variable_40/Adam, Variable_40/Adam_1, Variable_41, Variable_41/Adam, Variable_41/Adam_1, Variable_42, Variable_42/Adam, Variable_42/Adam_1, Variable_43, Variable_43/Adam, Variable_43/Adam_1, Variable_44, Variable_44/Adam, Variable_44/Adam_1, Variable_44/Adam_2, Variable_44/Adam_3, Variable_45, Variable_45/Adam, Variable_45/Adam_1, Variable_45/Adam_2, Variable_45/Adam_3, Variable_46, Variable_46/Adam, Variable_46/Adam_1, Variable_46/Adam_2, Variable_46/Adam_3, Variable_47, Variable_47/Adam, Variable_47/Adam_1, Variable_47/Adam_2, Variable_47/Adam_3, Variable_48, Variable_48/Adam, Variable_48/Adam_1, Variable_49, Variable_49/Adam, Variable_49/Adam_1, Variable_5, Variable_5/Adam, Variable_5/Adam_1, Variable_50, Variable_50/Adam, Variable_50/Adam_1, Variable_51, Variable_51/Adam, Variable_51/Adam_1, Variable_52, Variable_52/Adam, Variable_52/Adam_1, Variable_53, Variable_53/Adam, Variable_53/Adam_1, Variable_54, Variable_54/Adam, Variable_54/Adam_1, Variable_55, Variable_55/Adam, Variable_55/Adam_1, Variable_56, Variable_56/Adam, Variable_56/Adam_1, Variable_57, Variable_57/Adam, Variable_57/Adam_1, Variable_58, Variable_58/Adam, Variable_58/Adam_1, Variable_59, Variable_59/Adam, Variable_59/Adam_1, Variable_6, Variable_6/Adam, Variable_6/Adam_1, Variable_60, Variable_60/Adam, Variable_60/Adam_1, Variable_61, Variable_61/Adam, Variable_61/Adam_1, Variable_62, Variable_62/Adam, Variable_62/Adam_1, Variable_63, Variable_63/Adam, Variable_63/Adam_1, Variable_64, Variable_64/Adam, Variable_64/Adam_1, Variable_64/Adam_2, Variable_64/Adam_3, Variable_65, Variable_65/Adam, Variable_65/Adam_1, Variable_65/Adam_2, Variable_65/Adam_3, Variable_66, Variable_66/Adam, Variable_66/Adam_1, Variable_66/Adam_2, Variable_66/Adam_3, Variable_67, Variable_67/Adam, Variable_67/Adam_1, Variable_67/Adam_2, Variable_67/Adam_3, Variable_68, Variable_69, Variable_7, Variable_7/Adam, Variable_7/Adam_1, Variable_70, Variable_70/Adam, Variable_70/Adam_1, Variable_70/Adam_2, Variable_70/Adam_3, Variable_71, Variable_71/Adam, Variable_71/Adam_1, Variable_71/Adam_2, Variable_71/Adam_3, Variable_72, Variable_72/Adam, Variable_72/Adam_1, Variable_73, Variable_73/Adam, Variable_73/Adam_1, Variable_74, Variable_75, Variable_76, Variable_76/Adam, Variable_76/Adam_1, Variable_77, Variable_77/Adam, Variable_77/Adam_1, Variable_78, Variable_78/Adam, Variable_78/Adam_1, Variable_79, Variable_79/Adam, Variable_79/Adam_1, Variable_8, Variable_8/Adam, Variable_8/Adam_1, Variable_80, Variable_80/Adam, Variable_80/Adam_1, Variable_81, Variable_81/Adam, Variable_81/Adam_1, Variable_82, Variable_82/Adam, Variable_82/Adam_1, Variable_83, Variable_83/Adam, Variable_83/Adam_1, Variable_84, Variable_84/Adam, Variable_84/Adam_1, Variable_85, Variable_85/Adam, Variable_85/Adam_1, Variable_86, Variable_86/Adam, Variable_86/Adam_1, Variable_87, Variable_87/Adam, Variable_87/Adam_1, Variable_88, Variable_88/Adam, Variable_88/Adam_1, Variable_89, Variable_89/Adam, Variable_89/Adam_1, Variable_9, Variable_9/Adam, Variable_9/Adam_1, Variable_90, Variable_90/Adam, Variable_90/Adam_1, Variable_91, Variable_91/Adam, Variable_91/Adam_1, Variable_92, Variable_92/Adam, Variable_92/Adam_1, Variable_93, Variable_93/Adam, Variable_93/Adam_1, beta1_power, beta1_power_1, beta1_power_10, beta1_power_11, beta1_power_12, beta1_power_2, beta1_power_3, beta1_power_4, beta1_power_5, beta1_power_6, beta1_power_7, beta1_power_8, beta1_power_9, beta2_power, beta2_power_1, beta2_power_10, beta2_power_11, beta2_power_12, beta2_power_2, beta2_power_3, beta2_power_4, beta2_power_5, beta2_power_6, beta2_power_7, beta2_power_8, beta2_power_9)]]\n\nCaused by op 'save_23/SaveV2', defined at:\n  File \"/Users/yu-hsunchen/anaconda3/envs/tfdeeplearning/lib/python3.5/runpy.py\", line 193, in _run_module_as_main\n    \"__main__\", mod_spec)\n  File \"/Users/yu-hsunchen/anaconda3/envs/tfdeeplearning/lib/python3.5/runpy.py\", line 85, in _run_code\n    exec(code, run_globals)\n  File \"/Users/yu-hsunchen/anaconda3/envs/tfdeeplearning/lib/python3.5/site-packages/ipykernel_launcher.py\", line 16, in <module>\n    app.launch_new_instance()\n  File \"/Users/yu-hsunchen/anaconda3/envs/tfdeeplearning/lib/python3.5/site-packages/traitlets/config/application.py\", line 658, in launch_instance\n    app.start()\n  File \"/Users/yu-hsunchen/anaconda3/envs/tfdeeplearning/lib/python3.5/site-packages/ipykernel/kernelapp.py\", line 477, in start\n    ioloop.IOLoop.instance().start()\n  File \"/Users/yu-hsunchen/anaconda3/envs/tfdeeplearning/lib/python3.5/site-packages/zmq/eventloop/ioloop.py\", line 177, in start\n    super(ZMQIOLoop, self).start()\n  File \"/Users/yu-hsunchen/anaconda3/envs/tfdeeplearning/lib/python3.5/site-packages/tornado/ioloop.py\", line 888, in start\n    handler_func(fd_obj, events)\n  File \"/Users/yu-hsunchen/anaconda3/envs/tfdeeplearning/lib/python3.5/site-packages/tornado/stack_context.py\", line 277, in null_wrapper\n    return fn(*args, **kwargs)\n  File \"/Users/yu-hsunchen/anaconda3/envs/tfdeeplearning/lib/python3.5/site-packages/zmq/eventloop/zmqstream.py\", line 440, in _handle_events\n    self._handle_recv()\n  File \"/Users/yu-hsunchen/anaconda3/envs/tfdeeplearning/lib/python3.5/site-packages/zmq/eventloop/zmqstream.py\", line 472, in _handle_recv\n    self._run_callback(callback, msg)\n  File \"/Users/yu-hsunchen/anaconda3/envs/tfdeeplearning/lib/python3.5/site-packages/zmq/eventloop/zmqstream.py\", line 414, in _run_callback\n    callback(*args, **kwargs)\n  File \"/Users/yu-hsunchen/anaconda3/envs/tfdeeplearning/lib/python3.5/site-packages/tornado/stack_context.py\", line 277, in null_wrapper\n    return fn(*args, **kwargs)\n  File \"/Users/yu-hsunchen/anaconda3/envs/tfdeeplearning/lib/python3.5/site-packages/ipykernel/kernelbase.py\", line 283, in dispatcher\n    return self.dispatch_shell(stream, msg)\n  File \"/Users/yu-hsunchen/anaconda3/envs/tfdeeplearning/lib/python3.5/site-packages/ipykernel/kernelbase.py\", line 235, in dispatch_shell\n    handler(stream, idents, msg)\n  File \"/Users/yu-hsunchen/anaconda3/envs/tfdeeplearning/lib/python3.5/site-packages/ipykernel/kernelbase.py\", line 399, in execute_request\n    user_expressions, allow_stdin)\n  File \"/Users/yu-hsunchen/anaconda3/envs/tfdeeplearning/lib/python3.5/site-packages/ipykernel/ipkernel.py\", line 196, in do_execute\n    res = shell.run_cell(code, store_history=store_history, silent=silent)\n  File \"/Users/yu-hsunchen/anaconda3/envs/tfdeeplearning/lib/python3.5/site-packages/ipykernel/zmqshell.py\", line 533, in run_cell\n    return super(ZMQInteractiveShell, self).run_cell(*args, **kwargs)\n  File \"/Users/yu-hsunchen/anaconda3/envs/tfdeeplearning/lib/python3.5/site-packages/IPython/core/interactiveshell.py\", line 2698, in run_cell\n    interactivity=interactivity, compiler=compiler, result=result)\n  File \"/Users/yu-hsunchen/anaconda3/envs/tfdeeplearning/lib/python3.5/site-packages/IPython/core/interactiveshell.py\", line 2802, in run_ast_nodes\n    if self.run_code(code, result):\n  File \"/Users/yu-hsunchen/anaconda3/envs/tfdeeplearning/lib/python3.5/site-packages/IPython/core/interactiveshell.py\", line 2862, in run_code\n    exec(code_obj, self.user_global_ns, self.user_ns)\n  File \"<ipython-input-359-44e2f822d6e4>\", line 4, in <module>\n    saver = tf.train.Saver()\n  File \"/Users/yu-hsunchen/anaconda3/envs/tfdeeplearning/lib/python3.5/site-packages/tensorflow/python/training/saver.py\", line 1218, in __init__\n    self.build()\n  File \"/Users/yu-hsunchen/anaconda3/envs/tfdeeplearning/lib/python3.5/site-packages/tensorflow/python/training/saver.py\", line 1227, in build\n    self._build(self._filename, build_save=True, build_restore=True)\n  File \"/Users/yu-hsunchen/anaconda3/envs/tfdeeplearning/lib/python3.5/site-packages/tensorflow/python/training/saver.py\", line 1263, in _build\n    build_save=build_save, build_restore=build_restore)\n  File \"/Users/yu-hsunchen/anaconda3/envs/tfdeeplearning/lib/python3.5/site-packages/tensorflow/python/training/saver.py\", line 748, in _build_internal\n    save_tensor = self._AddSaveOps(filename_tensor, saveables)\n  File \"/Users/yu-hsunchen/anaconda3/envs/tfdeeplearning/lib/python3.5/site-packages/tensorflow/python/training/saver.py\", line 296, in _AddSaveOps\n    save = self.save_op(filename_tensor, saveables)\n  File \"/Users/yu-hsunchen/anaconda3/envs/tfdeeplearning/lib/python3.5/site-packages/tensorflow/python/training/saver.py\", line 239, in save_op\n    tensors)\n  File \"/Users/yu-hsunchen/anaconda3/envs/tfdeeplearning/lib/python3.5/site-packages/tensorflow/python/ops/gen_io_ops.py\", line 1163, in save_v2\n    shape_and_slices=shape_and_slices, tensors=tensors, name=name)\n  File \"/Users/yu-hsunchen/anaconda3/envs/tfdeeplearning/lib/python3.5/site-packages/tensorflow/python/framework/op_def_library.py\", line 787, in _apply_op_helper\n    op_def=op_def)\n  File \"/Users/yu-hsunchen/anaconda3/envs/tfdeeplearning/lib/python3.5/site-packages/tensorflow/python/framework/ops.py\", line 2956, in create_op\n    op_def=op_def)\n  File \"/Users/yu-hsunchen/anaconda3/envs/tfdeeplearning/lib/python3.5/site-packages/tensorflow/python/framework/ops.py\", line 1470, in __init__\n    self._traceback = self._graph._extract_stack()  # pylint: disable=protected-access\n\nResourceExhaustedError (see above for traceback): output/teeth_learn.data-00000-of-00001.tempstate13710403035858702885; No space left on device\n\t [[Node: save_23/SaveV2 = SaveV2[dtypes=[DT_FLOAT, DT_FLOAT, DT_FLOAT, DT_FLOAT, DT_FLOAT, DT_FLOAT, DT_FLOAT, DT_FLOAT, DT_FLOAT, DT_FLOAT, DT_FLOAT, DT_FLOAT, DT_FLOAT, DT_FLOAT, DT_FLOAT, DT_FLOAT, DT_FLOAT, DT_FLOAT, DT_FLOAT, DT_FLOAT, DT_FLOAT, DT_FLOAT, DT_FLOAT, DT_FLOAT, DT_FLOAT, DT_FLOAT, DT_FLOAT, DT_FLOAT, DT_FLOAT, DT_FLOAT, DT_FLOAT, DT_FLOAT, DT_FLOAT, DT_FLOAT, DT_FLOAT, DT_FLOAT, DT_FLOAT, DT_FLOAT, DT_FLOAT, DT_FLOAT, DT_FLOAT, DT_FLOAT, DT_FLOAT, DT_FLOAT, DT_FLOAT, DT_FLOAT, DT_FLOAT, DT_FLOAT, DT_FLOAT, DT_FLOAT, DT_FLOAT, DT_FLOAT, DT_FLOAT, DT_FLOAT, DT_FLOAT, DT_FLOAT, DT_FLOAT, DT_FLOAT, DT_FLOAT, DT_FLOAT, DT_FLOAT, DT_FLOAT, DT_FLOAT, DT_FLOAT, DT_FLOAT, DT_FLOAT, DT_FLOAT, DT_FLOAT, DT_FLOAT, DT_FLOAT, DT_FLOAT, DT_FLOAT, DT_FLOAT, DT_FLOAT, DT_FLOAT, DT_FLOAT, DT_FLOAT, DT_FLOAT, DT_FLOAT, DT_FLOAT, DT_FLOAT, DT_FLOAT, DT_FLOAT, DT_FLOAT, DT_FLOAT, DT_FLOAT, DT_FLOAT, DT_FLOAT, DT_FLOAT, DT_FLOAT, DT_FLOAT, DT_FLOAT, DT_FLOAT, DT_FLOAT, DT_FLOAT, DT_FLOAT, DT_FLOAT, DT_FLOAT, DT_FLOAT, DT_FLOAT, DT_FLOAT, DT_FLOAT, DT_FLOAT, DT_FLOAT, DT_FLOAT, DT_FLOAT, DT_FLOAT, DT_FLOAT, DT_FLOAT, DT_FLOAT, DT_FLOAT, DT_FLOAT, DT_FLOAT, DT_FLOAT, DT_FLOAT, DT_FLOAT, DT_FLOAT, DT_FLOAT, DT_FLOAT, DT_FLOAT, DT_FLOAT, DT_FLOAT, DT_FLOAT, DT_FLOAT, DT_FLOAT, DT_FLOAT, DT_FLOAT, DT_FLOAT, DT_FLOAT, DT_FLOAT, DT_FLOAT, DT_FLOAT, DT_FLOAT, DT_FLOAT, DT_FLOAT, DT_FLOAT, DT_FLOAT, DT_FLOAT, DT_FLOAT, DT_FLOAT, DT_FLOAT, DT_FLOAT, DT_FLOAT, DT_FLOAT, DT_FLOAT, DT_FLOAT, DT_FLOAT, DT_FLOAT, DT_FLOAT, DT_FLOAT, DT_FLOAT, DT_FLOAT, DT_FLOAT, DT_FLOAT, DT_FLOAT, DT_FLOAT, DT_FLOAT, DT_FLOAT, DT_FLOAT, DT_FLOAT, DT_FLOAT, DT_FLOAT, DT_FLOAT, DT_FLOAT, DT_FLOAT, DT_FLOAT, DT_FLOAT, DT_FLOAT, DT_FLOAT, DT_FLOAT, DT_FLOAT, DT_FLOAT, DT_FLOAT, DT_FLOAT, DT_FLOAT, DT_FLOAT, DT_FLOAT, DT_FLOAT, DT_FLOAT, DT_FLOAT, DT_FLOAT, DT_FLOAT, DT_FLOAT, DT_FLOAT, DT_FLOAT, DT_FLOAT, DT_FLOAT, DT_FLOAT, DT_FLOAT, DT_FLOAT, DT_FLOAT, DT_FLOAT, DT_FLOAT, DT_FLOAT, DT_FLOAT, DT_FLOAT, DT_FLOAT, DT_FLOAT, DT_FLOAT, DT_FLOAT, DT_FLOAT, DT_FLOAT, DT_FLOAT, DT_FLOAT, DT_FLOAT, DT_FLOAT, DT_FLOAT, DT_FLOAT, DT_FLOAT, DT_FLOAT, DT_FLOAT, DT_FLOAT, DT_FLOAT, DT_FLOAT, DT_FLOAT, DT_FLOAT, DT_FLOAT, DT_FLOAT, DT_FLOAT, DT_FLOAT, DT_FLOAT, DT_FLOAT, DT_FLOAT, DT_FLOAT, DT_FLOAT, DT_FLOAT, DT_FLOAT, DT_FLOAT, DT_FLOAT, DT_FLOAT, DT_FLOAT, DT_FLOAT, DT_FLOAT, DT_FLOAT, DT_FLOAT, DT_FLOAT, DT_FLOAT, DT_FLOAT, DT_FLOAT, DT_FLOAT, DT_FLOAT, DT_FLOAT, DT_FLOAT, DT_FLOAT, DT_FLOAT, DT_FLOAT, DT_FLOAT, DT_FLOAT, DT_FLOAT, DT_FLOAT, DT_FLOAT, DT_FLOAT, DT_FLOAT, DT_FLOAT, DT_FLOAT, DT_FLOAT, DT_FLOAT, DT_FLOAT, DT_FLOAT, DT_FLOAT, DT_FLOAT, DT_FLOAT, DT_FLOAT, DT_FLOAT, DT_FLOAT, DT_FLOAT, DT_FLOAT, DT_FLOAT, DT_FLOAT, DT_FLOAT, DT_FLOAT, DT_FLOAT, DT_FLOAT, DT_FLOAT, DT_FLOAT, DT_FLOAT, DT_FLOAT, DT_FLOAT, DT_FLOAT, DT_FLOAT, DT_FLOAT, DT_FLOAT, DT_FLOAT, DT_FLOAT, DT_FLOAT, DT_FLOAT, DT_FLOAT, DT_FLOAT, DT_FLOAT, DT_FLOAT, DT_FLOAT, DT_FLOAT, DT_FLOAT, DT_FLOAT, DT_FLOAT, DT_FLOAT, DT_FLOAT, DT_FLOAT, DT_FLOAT, DT_FLOAT, DT_FLOAT, DT_FLOAT, DT_FLOAT, DT_FLOAT, DT_FLOAT, DT_FLOAT, DT_FLOAT, DT_FLOAT, DT_FLOAT, DT_FLOAT, DT_FLOAT, DT_FLOAT, DT_FLOAT, DT_FLOAT, DT_FLOAT, DT_FLOAT, DT_FLOAT, DT_FLOAT, DT_FLOAT, DT_FLOAT, DT_FLOAT, DT_FLOAT, DT_FLOAT, DT_FLOAT, DT_FLOAT, DT_FLOAT, DT_FLOAT, DT_FLOAT], _device=\"/job:localhost/replica:0/task:0/device:CPU:0\"](_arg_save_23/Const_0_0, save_23/SaveV2/tensor_names, save_23/SaveV2/shape_and_slices, Variable, Variable/Adam, Variable/Adam_1, Variable_1, Variable_1/Adam, Variable_1/Adam_1, Variable_10, Variable_10/Adam, Variable_10/Adam_1, Variable_11, Variable_11/Adam, Variable_11/Adam_1, Variable_12, Variable_12/Adam, Variable_12/Adam_1, Variable_13, Variable_13/Adam, Variable_13/Adam_1, Variable_14, Variable_14/Adam, Variable_14/Adam_1, Variable_15, Variable_15/Adam, Variable_15/Adam_1, Variable_16, Variable_16/Adam, Variable_16/Adam_1, Variable_17, Variable_17/Adam, Variable_17/Adam_1, Variable_18, Variable_18/Adam, Variable_18/Adam_1, Variable_19, Variable_19/Adam, Variable_19/Adam_1, Variable_2, Variable_2/Adam, Variable_2/Adam_1, Variable_20, Variable_20/Adam, Variable_20/Adam_1, Variable_21, Variable_21/Adam, Variable_21/Adam_1, Variable_22, Variable_22/Adam, Variable_22/Adam_1, Variable_23, Variable_23/Adam, Variable_23/Adam_1, Variable_24, Variable_24/Adam, Variable_24/Adam_1, Variable_24/Adam_2, Variable_24/Adam_3, Variable_25, Variable_25/Adam, Variable_25/Adam_1, Variable_25/Adam_2, Variable_25/Adam_3, Variable_26, Variable_26/Adam, Variable_26/Adam_1, Variable_26/Adam_2, Variable_26/Adam_3, Variable_27, Variable_27/Adam, Variable_27/Adam_1, Variable_27/Adam_2, Variable_27/Adam_3, Variable_28, Variable_28/Adam, Variable_28/Adam_1, Variable_29, Variable_29/Adam, Variable_29/Adam_1, Variable_3, Variable_3/Adam, Variable_3/Adam_1, Variable_30, Variable_30/Adam, Variable_30/Adam_1, Variable_31, Variable_31/Adam, Variable_31/Adam_1, Variable_32, Variable_32/Adam, Variable_32/Adam_1, Variable_33, Variable_33/Adam, Variable_33/Adam_1, Variable_34, Variable_34/Adam, Variable_34/Adam_1, Variable_35, Variable_35/Adam, Variable_35/Adam_1, Variable_36, Variable_36/Adam, Variable_36/Adam_1, Variable_37, Variable_37/Adam, Variable_37/Adam_1, Variable_38, Variable_38/Adam, Variable_38/Adam_1, Variable_39, Variable_39/Adam, Variable_39/Adam_1, Variable_4, Variable_4/Adam, Variable_4/Adam_1, Variable_40, Variable_40/Adam, Variable_40/Adam_1, Variable_41, Variable_41/Adam, Variable_41/Adam_1, Variable_42, Variable_42/Adam, Variable_42/Adam_1, Variable_43, Variable_43/Adam, Variable_43/Adam_1, Variable_44, Variable_44/Adam, Variable_44/Adam_1, Variable_44/Adam_2, Variable_44/Adam_3, Variable_45, Variable_45/Adam, Variable_45/Adam_1, Variable_45/Adam_2, Variable_45/Adam_3, Variable_46, Variable_46/Adam, Variable_46/Adam_1, Variable_46/Adam_2, Variable_46/Adam_3, Variable_47, Variable_47/Adam, Variable_47/Adam_1, Variable_47/Adam_2, Variable_47/Adam_3, Variable_48, Variable_48/Adam, Variable_48/Adam_1, Variable_49, Variable_49/Adam, Variable_49/Adam_1, Variable_5, Variable_5/Adam, Variable_5/Adam_1, Variable_50, Variable_50/Adam, Variable_50/Adam_1, Variable_51, Variable_51/Adam, Variable_51/Adam_1, Variable_52, Variable_52/Adam, Variable_52/Adam_1, Variable_53, Variable_53/Adam, Variable_53/Adam_1, Variable_54, Variable_54/Adam, Variable_54/Adam_1, Variable_55, Variable_55/Adam, Variable_55/Adam_1, Variable_56, Variable_56/Adam, Variable_56/Adam_1, Variable_57, Variable_57/Adam, Variable_57/Adam_1, Variable_58, Variable_58/Adam, Variable_58/Adam_1, Variable_59, Variable_59/Adam, Variable_59/Adam_1, Variable_6, Variable_6/Adam, Variable_6/Adam_1, Variable_60, Variable_60/Adam, Variable_60/Adam_1, Variable_61, Variable_61/Adam, Variable_61/Adam_1, Variable_62, Variable_62/Adam, Variable_62/Adam_1, Variable_63, Variable_63/Adam, Variable_63/Adam_1, Variable_64, Variable_64/Adam, Variable_64/Adam_1, Variable_64/Adam_2, Variable_64/Adam_3, Variable_65, Variable_65/Adam, Variable_65/Adam_1, Variable_65/Adam_2, Variable_65/Adam_3, Variable_66, Variable_66/Adam, Variable_66/Adam_1, Variable_66/Adam_2, Variable_66/Adam_3, Variable_67, Variable_67/Adam, Variable_67/Adam_1, Variable_67/Adam_2, Variable_67/Adam_3, Variable_68, Variable_69, Variable_7, Variable_7/Adam, Variable_7/Adam_1, Variable_70, Variable_70/Adam, Variable_70/Adam_1, Variable_70/Adam_2, Variable_70/Adam_3, Variable_71, Variable_71/Adam, Variable_71/Adam_1, Variable_71/Adam_2, Variable_71/Adam_3, Variable_72, Variable_72/Adam, Variable_72/Adam_1, Variable_73, Variable_73/Adam, Variable_73/Adam_1, Variable_74, Variable_75, Variable_76, Variable_76/Adam, Variable_76/Adam_1, Variable_77, Variable_77/Adam, Variable_77/Adam_1, Variable_78, Variable_78/Adam, Variable_78/Adam_1, Variable_79, Variable_79/Adam, Variable_79/Adam_1, Variable_8, Variable_8/Adam, Variable_8/Adam_1, Variable_80, Variable_80/Adam, Variable_80/Adam_1, Variable_81, Variable_81/Adam, Variable_81/Adam_1, Variable_82, Variable_82/Adam, Variable_82/Adam_1, Variable_83, Variable_83/Adam, Variable_83/Adam_1, Variable_84, Variable_84/Adam, Variable_84/Adam_1, Variable_85, Variable_85/Adam, Variable_85/Adam_1, Variable_86, Variable_86/Adam, Variable_86/Adam_1, Variable_87, Variable_87/Adam, Variable_87/Adam_1, Variable_88, Variable_88/Adam, Variable_88/Adam_1, Variable_89, Variable_89/Adam, Variable_89/Adam_1, Variable_9, Variable_9/Adam, Variable_9/Adam_1, Variable_90, Variable_90/Adam, Variable_90/Adam_1, Variable_91, Variable_91/Adam, Variable_91/Adam_1, Variable_92, Variable_92/Adam, Variable_92/Adam_1, Variable_93, Variable_93/Adam, Variable_93/Adam_1, beta1_power, beta1_power_1, beta1_power_10, beta1_power_11, beta1_power_12, beta1_power_2, beta1_power_3, beta1_power_4, beta1_power_5, beta1_power_6, beta1_power_7, beta1_power_8, beta1_power_9, beta2_power, beta2_power_1, beta2_power_10, beta2_power_11, beta2_power_12, beta2_power_2, beta2_power_3, beta2_power_4, beta2_power_5, beta2_power_6, beta2_power_7, beta2_power_8, beta2_power_9)]]\n",
     "output_type": "error",
     "traceback": [
      "\u001b[0;31m---------------------------------------------------------------------------\u001b[0m",
      "\u001b[0;31mResourceExhaustedError\u001b[0m                    Traceback (most recent call last)",
      "\u001b[0;32m~/anaconda3/envs/tfdeeplearning/lib/python3.5/site-packages/tensorflow/python/client/session.py\u001b[0m in \u001b[0;36m_do_call\u001b[0;34m(self, fn, *args)\u001b[0m\n\u001b[1;32m   1322\u001b[0m     \u001b[0;32mtry\u001b[0m\u001b[0;34m:\u001b[0m\u001b[0;34m\u001b[0m\u001b[0m\n\u001b[0;32m-> 1323\u001b[0;31m       \u001b[0;32mreturn\u001b[0m \u001b[0mfn\u001b[0m\u001b[0;34m(\u001b[0m\u001b[0;34m*\u001b[0m\u001b[0margs\u001b[0m\u001b[0;34m)\u001b[0m\u001b[0;34m\u001b[0m\u001b[0m\n\u001b[0m\u001b[1;32m   1324\u001b[0m     \u001b[0;32mexcept\u001b[0m \u001b[0merrors\u001b[0m\u001b[0;34m.\u001b[0m\u001b[0mOpError\u001b[0m \u001b[0;32mas\u001b[0m \u001b[0me\u001b[0m\u001b[0;34m:\u001b[0m\u001b[0;34m\u001b[0m\u001b[0m\n",
      "\u001b[0;32m~/anaconda3/envs/tfdeeplearning/lib/python3.5/site-packages/tensorflow/python/client/session.py\u001b[0m in \u001b[0;36m_run_fn\u001b[0;34m(session, feed_dict, fetch_list, target_list, options, run_metadata)\u001b[0m\n\u001b[1;32m   1301\u001b[0m                                    \u001b[0mfeed_dict\u001b[0m\u001b[0;34m,\u001b[0m \u001b[0mfetch_list\u001b[0m\u001b[0;34m,\u001b[0m \u001b[0mtarget_list\u001b[0m\u001b[0;34m,\u001b[0m\u001b[0;34m\u001b[0m\u001b[0m\n\u001b[0;32m-> 1302\u001b[0;31m                                    status, run_metadata)\n\u001b[0m\u001b[1;32m   1303\u001b[0m \u001b[0;34m\u001b[0m\u001b[0m\n",
      "\u001b[0;32m~/anaconda3/envs/tfdeeplearning/lib/python3.5/site-packages/tensorflow/python/framework/errors_impl.py\u001b[0m in \u001b[0;36m__exit__\u001b[0;34m(self, type_arg, value_arg, traceback_arg)\u001b[0m\n\u001b[1;32m    472\u001b[0m             \u001b[0mcompat\u001b[0m\u001b[0;34m.\u001b[0m\u001b[0mas_text\u001b[0m\u001b[0;34m(\u001b[0m\u001b[0mc_api\u001b[0m\u001b[0;34m.\u001b[0m\u001b[0mTF_Message\u001b[0m\u001b[0;34m(\u001b[0m\u001b[0mself\u001b[0m\u001b[0;34m.\u001b[0m\u001b[0mstatus\u001b[0m\u001b[0;34m.\u001b[0m\u001b[0mstatus\u001b[0m\u001b[0;34m)\u001b[0m\u001b[0;34m)\u001b[0m\u001b[0;34m,\u001b[0m\u001b[0;34m\u001b[0m\u001b[0m\n\u001b[0;32m--> 473\u001b[0;31m             c_api.TF_GetCode(self.status.status))\n\u001b[0m\u001b[1;32m    474\u001b[0m     \u001b[0;31m# Delete the underlying status object from memory otherwise it stays alive\u001b[0m\u001b[0;34m\u001b[0m\u001b[0;34m\u001b[0m\u001b[0m\n",
      "\u001b[0;31mResourceExhaustedError\u001b[0m: output/teeth_learn.data-00000-of-00001.tempstate13710403035858702885; No space left on device\n\t [[Node: save_23/SaveV2 = SaveV2[dtypes=[DT_FLOAT, DT_FLOAT, DT_FLOAT, DT_FLOAT, DT_FLOAT, DT_FLOAT, DT_FLOAT, DT_FLOAT, DT_FLOAT, DT_FLOAT, DT_FLOAT, DT_FLOAT, DT_FLOAT, DT_FLOAT, DT_FLOAT, DT_FLOAT, DT_FLOAT, DT_FLOAT, DT_FLOAT, DT_FLOAT, DT_FLOAT, DT_FLOAT, DT_FLOAT, DT_FLOAT, DT_FLOAT, DT_FLOAT, DT_FLOAT, DT_FLOAT, DT_FLOAT, DT_FLOAT, DT_FLOAT, DT_FLOAT, DT_FLOAT, DT_FLOAT, DT_FLOAT, DT_FLOAT, DT_FLOAT, DT_FLOAT, DT_FLOAT, DT_FLOAT, DT_FLOAT, DT_FLOAT, DT_FLOAT, DT_FLOAT, DT_FLOAT, DT_FLOAT, DT_FLOAT, DT_FLOAT, DT_FLOAT, DT_FLOAT, DT_FLOAT, DT_FLOAT, DT_FLOAT, DT_FLOAT, DT_FLOAT, DT_FLOAT, DT_FLOAT, DT_FLOAT, DT_FLOAT, DT_FLOAT, DT_FLOAT, DT_FLOAT, DT_FLOAT, DT_FLOAT, DT_FLOAT, DT_FLOAT, DT_FLOAT, DT_FLOAT, DT_FLOAT, DT_FLOAT, DT_FLOAT, DT_FLOAT, DT_FLOAT, DT_FLOAT, DT_FLOAT, DT_FLOAT, DT_FLOAT, DT_FLOAT, DT_FLOAT, DT_FLOAT, DT_FLOAT, DT_FLOAT, DT_FLOAT, DT_FLOAT, DT_FLOAT, DT_FLOAT, DT_FLOAT, DT_FLOAT, DT_FLOAT, DT_FLOAT, DT_FLOAT, DT_FLOAT, DT_FLOAT, DT_FLOAT, DT_FLOAT, DT_FLOAT, DT_FLOAT, DT_FLOAT, DT_FLOAT, DT_FLOAT, DT_FLOAT, DT_FLOAT, DT_FLOAT, DT_FLOAT, DT_FLOAT, DT_FLOAT, DT_FLOAT, DT_FLOAT, DT_FLOAT, DT_FLOAT, DT_FLOAT, DT_FLOAT, DT_FLOAT, DT_FLOAT, DT_FLOAT, DT_FLOAT, DT_FLOAT, DT_FLOAT, DT_FLOAT, DT_FLOAT, DT_FLOAT, DT_FLOAT, DT_FLOAT, DT_FLOAT, DT_FLOAT, DT_FLOAT, DT_FLOAT, DT_FLOAT, DT_FLOAT, DT_FLOAT, DT_FLOAT, DT_FLOAT, DT_FLOAT, DT_FLOAT, DT_FLOAT, DT_FLOAT, DT_FLOAT, DT_FLOAT, DT_FLOAT, DT_FLOAT, DT_FLOAT, DT_FLOAT, DT_FLOAT, DT_FLOAT, DT_FLOAT, DT_FLOAT, DT_FLOAT, DT_FLOAT, DT_FLOAT, DT_FLOAT, DT_FLOAT, DT_FLOAT, DT_FLOAT, DT_FLOAT, DT_FLOAT, DT_FLOAT, DT_FLOAT, DT_FLOAT, DT_FLOAT, DT_FLOAT, DT_FLOAT, DT_FLOAT, DT_FLOAT, DT_FLOAT, DT_FLOAT, DT_FLOAT, DT_FLOAT, DT_FLOAT, DT_FLOAT, DT_FLOAT, DT_FLOAT, DT_FLOAT, DT_FLOAT, DT_FLOAT, DT_FLOAT, DT_FLOAT, DT_FLOAT, DT_FLOAT, DT_FLOAT, DT_FLOAT, DT_FLOAT, DT_FLOAT, DT_FLOAT, DT_FLOAT, DT_FLOAT, DT_FLOAT, DT_FLOAT, DT_FLOAT, DT_FLOAT, DT_FLOAT, DT_FLOAT, DT_FLOAT, DT_FLOAT, DT_FLOAT, DT_FLOAT, DT_FLOAT, DT_FLOAT, DT_FLOAT, DT_FLOAT, DT_FLOAT, DT_FLOAT, DT_FLOAT, DT_FLOAT, DT_FLOAT, DT_FLOAT, DT_FLOAT, DT_FLOAT, DT_FLOAT, DT_FLOAT, DT_FLOAT, DT_FLOAT, DT_FLOAT, DT_FLOAT, DT_FLOAT, DT_FLOAT, DT_FLOAT, DT_FLOAT, DT_FLOAT, DT_FLOAT, DT_FLOAT, DT_FLOAT, DT_FLOAT, DT_FLOAT, DT_FLOAT, DT_FLOAT, DT_FLOAT, DT_FLOAT, DT_FLOAT, DT_FLOAT, DT_FLOAT, DT_FLOAT, DT_FLOAT, DT_FLOAT, DT_FLOAT, DT_FLOAT, DT_FLOAT, DT_FLOAT, DT_FLOAT, DT_FLOAT, DT_FLOAT, DT_FLOAT, DT_FLOAT, DT_FLOAT, DT_FLOAT, DT_FLOAT, DT_FLOAT, DT_FLOAT, DT_FLOAT, DT_FLOAT, DT_FLOAT, DT_FLOAT, DT_FLOAT, DT_FLOAT, DT_FLOAT, DT_FLOAT, DT_FLOAT, DT_FLOAT, DT_FLOAT, DT_FLOAT, DT_FLOAT, DT_FLOAT, DT_FLOAT, DT_FLOAT, DT_FLOAT, DT_FLOAT, DT_FLOAT, DT_FLOAT, DT_FLOAT, DT_FLOAT, DT_FLOAT, DT_FLOAT, DT_FLOAT, DT_FLOAT, DT_FLOAT, DT_FLOAT, DT_FLOAT, DT_FLOAT, DT_FLOAT, DT_FLOAT, DT_FLOAT, DT_FLOAT, DT_FLOAT, DT_FLOAT, DT_FLOAT, DT_FLOAT, DT_FLOAT, DT_FLOAT, DT_FLOAT, DT_FLOAT, DT_FLOAT, DT_FLOAT, DT_FLOAT, DT_FLOAT, DT_FLOAT, DT_FLOAT, DT_FLOAT, DT_FLOAT, DT_FLOAT, DT_FLOAT, DT_FLOAT, DT_FLOAT, DT_FLOAT, DT_FLOAT, DT_FLOAT, DT_FLOAT, DT_FLOAT, DT_FLOAT, DT_FLOAT, DT_FLOAT, DT_FLOAT, DT_FLOAT, DT_FLOAT, DT_FLOAT, DT_FLOAT, DT_FLOAT, DT_FLOAT, DT_FLOAT, DT_FLOAT, DT_FLOAT, DT_FLOAT, DT_FLOAT, DT_FLOAT, DT_FLOAT, DT_FLOAT, DT_FLOAT, DT_FLOAT, DT_FLOAT, DT_FLOAT], _device=\"/job:localhost/replica:0/task:0/device:CPU:0\"](_arg_save_23/Const_0_0, save_23/SaveV2/tensor_names, save_23/SaveV2/shape_and_slices, Variable, Variable/Adam, Variable/Adam_1, Variable_1, Variable_1/Adam, Variable_1/Adam_1, Variable_10, Variable_10/Adam, Variable_10/Adam_1, Variable_11, Variable_11/Adam, Variable_11/Adam_1, Variable_12, Variable_12/Adam, Variable_12/Adam_1, Variable_13, Variable_13/Adam, Variable_13/Adam_1, Variable_14, Variable_14/Adam, Variable_14/Adam_1, Variable_15, Variable_15/Adam, Variable_15/Adam_1, Variable_16, Variable_16/Adam, Variable_16/Adam_1, Variable_17, Variable_17/Adam, Variable_17/Adam_1, Variable_18, Variable_18/Adam, Variable_18/Adam_1, Variable_19, Variable_19/Adam, Variable_19/Adam_1, Variable_2, Variable_2/Adam, Variable_2/Adam_1, Variable_20, Variable_20/Adam, Variable_20/Adam_1, Variable_21, Variable_21/Adam, Variable_21/Adam_1, Variable_22, Variable_22/Adam, Variable_22/Adam_1, Variable_23, Variable_23/Adam, Variable_23/Adam_1, Variable_24, Variable_24/Adam, Variable_24/Adam_1, Variable_24/Adam_2, Variable_24/Adam_3, Variable_25, Variable_25/Adam, Variable_25/Adam_1, Variable_25/Adam_2, Variable_25/Adam_3, Variable_26, Variable_26/Adam, Variable_26/Adam_1, Variable_26/Adam_2, Variable_26/Adam_3, Variable_27, Variable_27/Adam, Variable_27/Adam_1, Variable_27/Adam_2, Variable_27/Adam_3, Variable_28, Variable_28/Adam, Variable_28/Adam_1, Variable_29, Variable_29/Adam, Variable_29/Adam_1, Variable_3, Variable_3/Adam, Variable_3/Adam_1, Variable_30, Variable_30/Adam, Variable_30/Adam_1, Variable_31, Variable_31/Adam, Variable_31/Adam_1, Variable_32, Variable_32/Adam, Variable_32/Adam_1, Variable_33, Variable_33/Adam, Variable_33/Adam_1, Variable_34, Variable_34/Adam, Variable_34/Adam_1, Variable_35, Variable_35/Adam, Variable_35/Adam_1, Variable_36, Variable_36/Adam, Variable_36/Adam_1, Variable_37, Variable_37/Adam, Variable_37/Adam_1, Variable_38, Variable_38/Adam, Variable_38/Adam_1, Variable_39, Variable_39/Adam, Variable_39/Adam_1, Variable_4, Variable_4/Adam, Variable_4/Adam_1, Variable_40, Variable_40/Adam, Variable_40/Adam_1, Variable_41, Variable_41/Adam, Variable_41/Adam_1, Variable_42, Variable_42/Adam, Variable_42/Adam_1, Variable_43, Variable_43/Adam, Variable_43/Adam_1, Variable_44, Variable_44/Adam, Variable_44/Adam_1, Variable_44/Adam_2, Variable_44/Adam_3, Variable_45, Variable_45/Adam, Variable_45/Adam_1, Variable_45/Adam_2, Variable_45/Adam_3, Variable_46, Variable_46/Adam, Variable_46/Adam_1, Variable_46/Adam_2, Variable_46/Adam_3, Variable_47, Variable_47/Adam, Variable_47/Adam_1, Variable_47/Adam_2, Variable_47/Adam_3, Variable_48, Variable_48/Adam, Variable_48/Adam_1, Variable_49, Variable_49/Adam, Variable_49/Adam_1, Variable_5, Variable_5/Adam, Variable_5/Adam_1, Variable_50, Variable_50/Adam, Variable_50/Adam_1, Variable_51, Variable_51/Adam, Variable_51/Adam_1, Variable_52, Variable_52/Adam, Variable_52/Adam_1, Variable_53, Variable_53/Adam, Variable_53/Adam_1, Variable_54, Variable_54/Adam, Variable_54/Adam_1, Variable_55, Variable_55/Adam, Variable_55/Adam_1, Variable_56, Variable_56/Adam, Variable_56/Adam_1, Variable_57, Variable_57/Adam, Variable_57/Adam_1, Variable_58, Variable_58/Adam, Variable_58/Adam_1, Variable_59, Variable_59/Adam, Variable_59/Adam_1, Variable_6, Variable_6/Adam, Variable_6/Adam_1, Variable_60, Variable_60/Adam, Variable_60/Adam_1, Variable_61, Variable_61/Adam, Variable_61/Adam_1, Variable_62, Variable_62/Adam, Variable_62/Adam_1, Variable_63, Variable_63/Adam, Variable_63/Adam_1, Variable_64, Variable_64/Adam, Variable_64/Adam_1, Variable_64/Adam_2, Variable_64/Adam_3, Variable_65, Variable_65/Adam, Variable_65/Adam_1, Variable_65/Adam_2, Variable_65/Adam_3, Variable_66, Variable_66/Adam, Variable_66/Adam_1, Variable_66/Adam_2, Variable_66/Adam_3, Variable_67, Variable_67/Adam, Variable_67/Adam_1, Variable_67/Adam_2, Variable_67/Adam_3, Variable_68, Variable_69, Variable_7, Variable_7/Adam, Variable_7/Adam_1, Variable_70, Variable_70/Adam, Variable_70/Adam_1, Variable_70/Adam_2, Variable_70/Adam_3, Variable_71, Variable_71/Adam, Variable_71/Adam_1, Variable_71/Adam_2, Variable_71/Adam_3, Variable_72, Variable_72/Adam, Variable_72/Adam_1, Variable_73, Variable_73/Adam, Variable_73/Adam_1, Variable_74, Variable_75, Variable_76, Variable_76/Adam, Variable_76/Adam_1, Variable_77, Variable_77/Adam, Variable_77/Adam_1, Variable_78, Variable_78/Adam, Variable_78/Adam_1, Variable_79, Variable_79/Adam, Variable_79/Adam_1, Variable_8, Variable_8/Adam, Variable_8/Adam_1, Variable_80, Variable_80/Adam, Variable_80/Adam_1, Variable_81, Variable_81/Adam, Variable_81/Adam_1, Variable_82, Variable_82/Adam, Variable_82/Adam_1, Variable_83, Variable_83/Adam, Variable_83/Adam_1, Variable_84, Variable_84/Adam, Variable_84/Adam_1, Variable_85, Variable_85/Adam, Variable_85/Adam_1, Variable_86, Variable_86/Adam, Variable_86/Adam_1, Variable_87, Variable_87/Adam, Variable_87/Adam_1, Variable_88, Variable_88/Adam, Variable_88/Adam_1, Variable_89, Variable_89/Adam, Variable_89/Adam_1, Variable_9, Variable_9/Adam, Variable_9/Adam_1, Variable_90, Variable_90/Adam, Variable_90/Adam_1, Variable_91, Variable_91/Adam, Variable_91/Adam_1, Variable_92, Variable_92/Adam, Variable_92/Adam_1, Variable_93, Variable_93/Adam, Variable_93/Adam_1, beta1_power, beta1_power_1, beta1_power_10, beta1_power_11, beta1_power_12, beta1_power_2, beta1_power_3, beta1_power_4, beta1_power_5, beta1_power_6, beta1_power_7, beta1_power_8, beta1_power_9, beta2_power, beta2_power_1, beta2_power_10, beta2_power_11, beta2_power_12, beta2_power_2, beta2_power_3, beta2_power_4, beta2_power_5, beta2_power_6, beta2_power_7, beta2_power_8, beta2_power_9)]]",
      "\nDuring handling of the above exception, another exception occurred:\n",
      "\u001b[0;31mResourceExhaustedError\u001b[0m                    Traceback (most recent call last)",
      "\u001b[0;32m<ipython-input-359-44e2f822d6e4>\u001b[0m in \u001b[0;36m<module>\u001b[0;34m()\u001b[0m\n\u001b[1;32m     31\u001b[0m             \u001b[0mprint\u001b[0m\u001b[0;34m(\u001b[0m\u001b[0;34m'\\n'\u001b[0m\u001b[0;34m)\u001b[0m\u001b[0;34m\u001b[0m\u001b[0m\n\u001b[1;32m     32\u001b[0m \u001b[0;34m\u001b[0m\u001b[0m\n\u001b[0;32m---> 33\u001b[0;31m             \u001b[0msaver\u001b[0m\u001b[0;34m.\u001b[0m\u001b[0msave\u001b[0m\u001b[0;34m(\u001b[0m\u001b[0msess\u001b[0m\u001b[0;34m,\u001b[0m \u001b[0msave_path\u001b[0m\u001b[0;34m,\u001b[0m \u001b[0mwrite_meta_graph\u001b[0m\u001b[0;34m=\u001b[0m\u001b[0;32mFalse\u001b[0m\u001b[0;34m)\u001b[0m\u001b[0;34m\u001b[0m\u001b[0m\n\u001b[0m",
      "\u001b[0;32m~/anaconda3/envs/tfdeeplearning/lib/python3.5/site-packages/tensorflow/python/training/saver.py\u001b[0m in \u001b[0;36msave\u001b[0;34m(self, sess, save_path, global_step, latest_filename, meta_graph_suffix, write_meta_graph, write_state)\u001b[0m\n\u001b[1;32m   1571\u001b[0m           model_checkpoint_path = sess.run(\n\u001b[1;32m   1572\u001b[0m               \u001b[0mself\u001b[0m\u001b[0;34m.\u001b[0m\u001b[0msaver_def\u001b[0m\u001b[0;34m.\u001b[0m\u001b[0msave_tensor_name\u001b[0m\u001b[0;34m,\u001b[0m\u001b[0;34m\u001b[0m\u001b[0m\n\u001b[0;32m-> 1573\u001b[0;31m               {self.saver_def.filename_tensor_name: checkpoint_file})\n\u001b[0m\u001b[1;32m   1574\u001b[0m         \u001b[0;32melse\u001b[0m\u001b[0;34m:\u001b[0m\u001b[0;34m\u001b[0m\u001b[0m\n\u001b[1;32m   1575\u001b[0m           self._build_eager(\n",
      "\u001b[0;32m~/anaconda3/envs/tfdeeplearning/lib/python3.5/site-packages/tensorflow/python/client/session.py\u001b[0m in \u001b[0;36mrun\u001b[0;34m(self, fetches, feed_dict, options, run_metadata)\u001b[0m\n\u001b[1;32m    887\u001b[0m     \u001b[0;32mtry\u001b[0m\u001b[0;34m:\u001b[0m\u001b[0;34m\u001b[0m\u001b[0m\n\u001b[1;32m    888\u001b[0m       result = self._run(None, fetches, feed_dict, options_ptr,\n\u001b[0;32m--> 889\u001b[0;31m                          run_metadata_ptr)\n\u001b[0m\u001b[1;32m    890\u001b[0m       \u001b[0;32mif\u001b[0m \u001b[0mrun_metadata\u001b[0m\u001b[0;34m:\u001b[0m\u001b[0;34m\u001b[0m\u001b[0m\n\u001b[1;32m    891\u001b[0m         \u001b[0mproto_data\u001b[0m \u001b[0;34m=\u001b[0m \u001b[0mtf_session\u001b[0m\u001b[0;34m.\u001b[0m\u001b[0mTF_GetBuffer\u001b[0m\u001b[0;34m(\u001b[0m\u001b[0mrun_metadata_ptr\u001b[0m\u001b[0;34m)\u001b[0m\u001b[0;34m\u001b[0m\u001b[0m\n",
      "\u001b[0;32m~/anaconda3/envs/tfdeeplearning/lib/python3.5/site-packages/tensorflow/python/client/session.py\u001b[0m in \u001b[0;36m_run\u001b[0;34m(self, handle, fetches, feed_dict, options, run_metadata)\u001b[0m\n\u001b[1;32m   1118\u001b[0m     \u001b[0;32mif\u001b[0m \u001b[0mfinal_fetches\u001b[0m \u001b[0;32mor\u001b[0m \u001b[0mfinal_targets\u001b[0m \u001b[0;32mor\u001b[0m \u001b[0;34m(\u001b[0m\u001b[0mhandle\u001b[0m \u001b[0;32mand\u001b[0m \u001b[0mfeed_dict_tensor\u001b[0m\u001b[0;34m)\u001b[0m\u001b[0;34m:\u001b[0m\u001b[0;34m\u001b[0m\u001b[0m\n\u001b[1;32m   1119\u001b[0m       results = self._do_run(handle, final_targets, final_fetches,\n\u001b[0;32m-> 1120\u001b[0;31m                              feed_dict_tensor, options, run_metadata)\n\u001b[0m\u001b[1;32m   1121\u001b[0m     \u001b[0;32melse\u001b[0m\u001b[0;34m:\u001b[0m\u001b[0;34m\u001b[0m\u001b[0m\n\u001b[1;32m   1122\u001b[0m       \u001b[0mresults\u001b[0m \u001b[0;34m=\u001b[0m \u001b[0;34m[\u001b[0m\u001b[0;34m]\u001b[0m\u001b[0;34m\u001b[0m\u001b[0m\n",
      "\u001b[0;32m~/anaconda3/envs/tfdeeplearning/lib/python3.5/site-packages/tensorflow/python/client/session.py\u001b[0m in \u001b[0;36m_do_run\u001b[0;34m(self, handle, target_list, fetch_list, feed_dict, options, run_metadata)\u001b[0m\n\u001b[1;32m   1315\u001b[0m     \u001b[0;32mif\u001b[0m \u001b[0mhandle\u001b[0m \u001b[0;32mis\u001b[0m \u001b[0;32mNone\u001b[0m\u001b[0;34m:\u001b[0m\u001b[0;34m\u001b[0m\u001b[0m\n\u001b[1;32m   1316\u001b[0m       return self._do_call(_run_fn, self._session, feeds, fetches, targets,\n\u001b[0;32m-> 1317\u001b[0;31m                            options, run_metadata)\n\u001b[0m\u001b[1;32m   1318\u001b[0m     \u001b[0;32melse\u001b[0m\u001b[0;34m:\u001b[0m\u001b[0;34m\u001b[0m\u001b[0m\n\u001b[1;32m   1319\u001b[0m       \u001b[0;32mreturn\u001b[0m \u001b[0mself\u001b[0m\u001b[0;34m.\u001b[0m\u001b[0m_do_call\u001b[0m\u001b[0;34m(\u001b[0m\u001b[0m_prun_fn\u001b[0m\u001b[0;34m,\u001b[0m \u001b[0mself\u001b[0m\u001b[0;34m.\u001b[0m\u001b[0m_session\u001b[0m\u001b[0;34m,\u001b[0m \u001b[0mhandle\u001b[0m\u001b[0;34m,\u001b[0m \u001b[0mfeeds\u001b[0m\u001b[0;34m,\u001b[0m \u001b[0mfetches\u001b[0m\u001b[0;34m)\u001b[0m\u001b[0;34m\u001b[0m\u001b[0m\n",
      "\u001b[0;32m~/anaconda3/envs/tfdeeplearning/lib/python3.5/site-packages/tensorflow/python/client/session.py\u001b[0m in \u001b[0;36m_do_call\u001b[0;34m(self, fn, *args)\u001b[0m\n\u001b[1;32m   1334\u001b[0m         \u001b[0;32mexcept\u001b[0m \u001b[0mKeyError\u001b[0m\u001b[0;34m:\u001b[0m\u001b[0;34m\u001b[0m\u001b[0m\n\u001b[1;32m   1335\u001b[0m           \u001b[0;32mpass\u001b[0m\u001b[0;34m\u001b[0m\u001b[0m\n\u001b[0;32m-> 1336\u001b[0;31m       \u001b[0;32mraise\u001b[0m \u001b[0mtype\u001b[0m\u001b[0;34m(\u001b[0m\u001b[0me\u001b[0m\u001b[0;34m)\u001b[0m\u001b[0;34m(\u001b[0m\u001b[0mnode_def\u001b[0m\u001b[0;34m,\u001b[0m \u001b[0mop\u001b[0m\u001b[0;34m,\u001b[0m \u001b[0mmessage\u001b[0m\u001b[0;34m)\u001b[0m\u001b[0;34m\u001b[0m\u001b[0m\n\u001b[0m\u001b[1;32m   1337\u001b[0m \u001b[0;34m\u001b[0m\u001b[0m\n\u001b[1;32m   1338\u001b[0m   \u001b[0;32mdef\u001b[0m \u001b[0m_extend_graph\u001b[0m\u001b[0;34m(\u001b[0m\u001b[0mself\u001b[0m\u001b[0;34m)\u001b[0m\u001b[0;34m:\u001b[0m\u001b[0;34m\u001b[0m\u001b[0m\n",
      "\u001b[0;31mResourceExhaustedError\u001b[0m: output/teeth_learn.data-00000-of-00001.tempstate13710403035858702885; No space left on device\n\t [[Node: save_23/SaveV2 = SaveV2[dtypes=[DT_FLOAT, DT_FLOAT, DT_FLOAT, DT_FLOAT, DT_FLOAT, DT_FLOAT, DT_FLOAT, DT_FLOAT, DT_FLOAT, DT_FLOAT, DT_FLOAT, DT_FLOAT, DT_FLOAT, DT_FLOAT, DT_FLOAT, DT_FLOAT, DT_FLOAT, DT_FLOAT, DT_FLOAT, DT_FLOAT, DT_FLOAT, DT_FLOAT, DT_FLOAT, DT_FLOAT, DT_FLOAT, DT_FLOAT, DT_FLOAT, DT_FLOAT, DT_FLOAT, DT_FLOAT, DT_FLOAT, DT_FLOAT, DT_FLOAT, DT_FLOAT, DT_FLOAT, DT_FLOAT, DT_FLOAT, DT_FLOAT, DT_FLOAT, DT_FLOAT, DT_FLOAT, DT_FLOAT, DT_FLOAT, DT_FLOAT, DT_FLOAT, DT_FLOAT, DT_FLOAT, DT_FLOAT, DT_FLOAT, DT_FLOAT, DT_FLOAT, DT_FLOAT, DT_FLOAT, DT_FLOAT, DT_FLOAT, DT_FLOAT, DT_FLOAT, DT_FLOAT, DT_FLOAT, DT_FLOAT, DT_FLOAT, DT_FLOAT, DT_FLOAT, DT_FLOAT, DT_FLOAT, DT_FLOAT, DT_FLOAT, DT_FLOAT, DT_FLOAT, DT_FLOAT, DT_FLOAT, DT_FLOAT, DT_FLOAT, DT_FLOAT, DT_FLOAT, DT_FLOAT, DT_FLOAT, DT_FLOAT, DT_FLOAT, DT_FLOAT, DT_FLOAT, DT_FLOAT, DT_FLOAT, DT_FLOAT, DT_FLOAT, DT_FLOAT, DT_FLOAT, DT_FLOAT, DT_FLOAT, DT_FLOAT, DT_FLOAT, DT_FLOAT, DT_FLOAT, DT_FLOAT, DT_FLOAT, DT_FLOAT, DT_FLOAT, DT_FLOAT, DT_FLOAT, DT_FLOAT, DT_FLOAT, DT_FLOAT, DT_FLOAT, DT_FLOAT, DT_FLOAT, DT_FLOAT, DT_FLOAT, DT_FLOAT, DT_FLOAT, DT_FLOAT, DT_FLOAT, DT_FLOAT, DT_FLOAT, DT_FLOAT, DT_FLOAT, DT_FLOAT, DT_FLOAT, DT_FLOAT, DT_FLOAT, DT_FLOAT, DT_FLOAT, DT_FLOAT, DT_FLOAT, DT_FLOAT, DT_FLOAT, DT_FLOAT, DT_FLOAT, DT_FLOAT, DT_FLOAT, DT_FLOAT, DT_FLOAT, DT_FLOAT, DT_FLOAT, DT_FLOAT, DT_FLOAT, DT_FLOAT, DT_FLOAT, DT_FLOAT, DT_FLOAT, DT_FLOAT, DT_FLOAT, DT_FLOAT, DT_FLOAT, DT_FLOAT, DT_FLOAT, DT_FLOAT, DT_FLOAT, DT_FLOAT, DT_FLOAT, DT_FLOAT, DT_FLOAT, DT_FLOAT, DT_FLOAT, DT_FLOAT, DT_FLOAT, DT_FLOAT, DT_FLOAT, DT_FLOAT, DT_FLOAT, DT_FLOAT, DT_FLOAT, DT_FLOAT, DT_FLOAT, DT_FLOAT, DT_FLOAT, DT_FLOAT, DT_FLOAT, DT_FLOAT, DT_FLOAT, DT_FLOAT, DT_FLOAT, DT_FLOAT, DT_FLOAT, DT_FLOAT, DT_FLOAT, DT_FLOAT, DT_FLOAT, DT_FLOAT, DT_FLOAT, DT_FLOAT, DT_FLOAT, DT_FLOAT, DT_FLOAT, DT_FLOAT, DT_FLOAT, DT_FLOAT, DT_FLOAT, DT_FLOAT, DT_FLOAT, DT_FLOAT, DT_FLOAT, DT_FLOAT, DT_FLOAT, DT_FLOAT, DT_FLOAT, DT_FLOAT, DT_FLOAT, DT_FLOAT, DT_FLOAT, DT_FLOAT, DT_FLOAT, DT_FLOAT, DT_FLOAT, DT_FLOAT, DT_FLOAT, DT_FLOAT, DT_FLOAT, DT_FLOAT, DT_FLOAT, DT_FLOAT, DT_FLOAT, DT_FLOAT, DT_FLOAT, DT_FLOAT, DT_FLOAT, DT_FLOAT, DT_FLOAT, DT_FLOAT, DT_FLOAT, DT_FLOAT, DT_FLOAT, DT_FLOAT, DT_FLOAT, DT_FLOAT, DT_FLOAT, DT_FLOAT, DT_FLOAT, DT_FLOAT, DT_FLOAT, DT_FLOAT, DT_FLOAT, DT_FLOAT, DT_FLOAT, DT_FLOAT, DT_FLOAT, DT_FLOAT, DT_FLOAT, DT_FLOAT, DT_FLOAT, DT_FLOAT, DT_FLOAT, DT_FLOAT, DT_FLOAT, DT_FLOAT, DT_FLOAT, DT_FLOAT, DT_FLOAT, DT_FLOAT, DT_FLOAT, DT_FLOAT, DT_FLOAT, DT_FLOAT, DT_FLOAT, DT_FLOAT, DT_FLOAT, DT_FLOAT, DT_FLOAT, DT_FLOAT, DT_FLOAT, DT_FLOAT, DT_FLOAT, DT_FLOAT, DT_FLOAT, DT_FLOAT, DT_FLOAT, DT_FLOAT, DT_FLOAT, DT_FLOAT, DT_FLOAT, DT_FLOAT, DT_FLOAT, DT_FLOAT, DT_FLOAT, DT_FLOAT, DT_FLOAT, DT_FLOAT, DT_FLOAT, DT_FLOAT, DT_FLOAT, DT_FLOAT, DT_FLOAT, DT_FLOAT, DT_FLOAT, DT_FLOAT, DT_FLOAT, DT_FLOAT, DT_FLOAT, DT_FLOAT, DT_FLOAT, DT_FLOAT, DT_FLOAT, DT_FLOAT, DT_FLOAT, DT_FLOAT, DT_FLOAT, DT_FLOAT, DT_FLOAT, DT_FLOAT, DT_FLOAT, DT_FLOAT, DT_FLOAT, DT_FLOAT, DT_FLOAT, DT_FLOAT, DT_FLOAT, DT_FLOAT, DT_FLOAT, DT_FLOAT, DT_FLOAT, DT_FLOAT, DT_FLOAT, DT_FLOAT, DT_FLOAT, DT_FLOAT, DT_FLOAT, DT_FLOAT, DT_FLOAT, DT_FLOAT, DT_FLOAT, DT_FLOAT, DT_FLOAT, DT_FLOAT, DT_FLOAT, DT_FLOAT, DT_FLOAT, DT_FLOAT, DT_FLOAT, DT_FLOAT], _device=\"/job:localhost/replica:0/task:0/device:CPU:0\"](_arg_save_23/Const_0_0, save_23/SaveV2/tensor_names, save_23/SaveV2/shape_and_slices, Variable, Variable/Adam, Variable/Adam_1, Variable_1, Variable_1/Adam, Variable_1/Adam_1, Variable_10, Variable_10/Adam, Variable_10/Adam_1, Variable_11, Variable_11/Adam, Variable_11/Adam_1, Variable_12, Variable_12/Adam, Variable_12/Adam_1, Variable_13, Variable_13/Adam, Variable_13/Adam_1, Variable_14, Variable_14/Adam, Variable_14/Adam_1, Variable_15, Variable_15/Adam, Variable_15/Adam_1, Variable_16, Variable_16/Adam, Variable_16/Adam_1, Variable_17, Variable_17/Adam, Variable_17/Adam_1, Variable_18, Variable_18/Adam, Variable_18/Adam_1, Variable_19, Variable_19/Adam, Variable_19/Adam_1, Variable_2, Variable_2/Adam, Variable_2/Adam_1, Variable_20, Variable_20/Adam, Variable_20/Adam_1, Variable_21, Variable_21/Adam, Variable_21/Adam_1, Variable_22, Variable_22/Adam, Variable_22/Adam_1, Variable_23, Variable_23/Adam, Variable_23/Adam_1, Variable_24, Variable_24/Adam, Variable_24/Adam_1, Variable_24/Adam_2, Variable_24/Adam_3, Variable_25, Variable_25/Adam, Variable_25/Adam_1, Variable_25/Adam_2, Variable_25/Adam_3, Variable_26, Variable_26/Adam, Variable_26/Adam_1, Variable_26/Adam_2, Variable_26/Adam_3, Variable_27, Variable_27/Adam, Variable_27/Adam_1, Variable_27/Adam_2, Variable_27/Adam_3, Variable_28, Variable_28/Adam, Variable_28/Adam_1, Variable_29, Variable_29/Adam, Variable_29/Adam_1, Variable_3, Variable_3/Adam, Variable_3/Adam_1, Variable_30, Variable_30/Adam, Variable_30/Adam_1, Variable_31, Variable_31/Adam, Variable_31/Adam_1, Variable_32, Variable_32/Adam, Variable_32/Adam_1, Variable_33, Variable_33/Adam, Variable_33/Adam_1, Variable_34, Variable_34/Adam, Variable_34/Adam_1, Variable_35, Variable_35/Adam, Variable_35/Adam_1, Variable_36, Variable_36/Adam, Variable_36/Adam_1, Variable_37, Variable_37/Adam, Variable_37/Adam_1, Variable_38, Variable_38/Adam, Variable_38/Adam_1, Variable_39, Variable_39/Adam, Variable_39/Adam_1, Variable_4, Variable_4/Adam, Variable_4/Adam_1, Variable_40, Variable_40/Adam, Variable_40/Adam_1, Variable_41, Variable_41/Adam, Variable_41/Adam_1, Variable_42, Variable_42/Adam, Variable_42/Adam_1, Variable_43, Variable_43/Adam, Variable_43/Adam_1, Variable_44, Variable_44/Adam, Variable_44/Adam_1, Variable_44/Adam_2, Variable_44/Adam_3, Variable_45, Variable_45/Adam, Variable_45/Adam_1, Variable_45/Adam_2, Variable_45/Adam_3, Variable_46, Variable_46/Adam, Variable_46/Adam_1, Variable_46/Adam_2, Variable_46/Adam_3, Variable_47, Variable_47/Adam, Variable_47/Adam_1, Variable_47/Adam_2, Variable_47/Adam_3, Variable_48, Variable_48/Adam, Variable_48/Adam_1, Variable_49, Variable_49/Adam, Variable_49/Adam_1, Variable_5, Variable_5/Adam, Variable_5/Adam_1, Variable_50, Variable_50/Adam, Variable_50/Adam_1, Variable_51, Variable_51/Adam, Variable_51/Adam_1, Variable_52, Variable_52/Adam, Variable_52/Adam_1, Variable_53, Variable_53/Adam, Variable_53/Adam_1, Variable_54, Variable_54/Adam, Variable_54/Adam_1, Variable_55, Variable_55/Adam, Variable_55/Adam_1, Variable_56, Variable_56/Adam, Variable_56/Adam_1, Variable_57, Variable_57/Adam, Variable_57/Adam_1, Variable_58, Variable_58/Adam, Variable_58/Adam_1, Variable_59, Variable_59/Adam, Variable_59/Adam_1, Variable_6, Variable_6/Adam, Variable_6/Adam_1, Variable_60, Variable_60/Adam, Variable_60/Adam_1, Variable_61, Variable_61/Adam, Variable_61/Adam_1, Variable_62, Variable_62/Adam, Variable_62/Adam_1, Variable_63, Variable_63/Adam, Variable_63/Adam_1, Variable_64, Variable_64/Adam, Variable_64/Adam_1, Variable_64/Adam_2, Variable_64/Adam_3, Variable_65, Variable_65/Adam, Variable_65/Adam_1, Variable_65/Adam_2, Variable_65/Adam_3, Variable_66, Variable_66/Adam, Variable_66/Adam_1, Variable_66/Adam_2, Variable_66/Adam_3, Variable_67, Variable_67/Adam, Variable_67/Adam_1, Variable_67/Adam_2, Variable_67/Adam_3, Variable_68, Variable_69, Variable_7, Variable_7/Adam, Variable_7/Adam_1, Variable_70, Variable_70/Adam, Variable_70/Adam_1, Variable_70/Adam_2, Variable_70/Adam_3, Variable_71, Variable_71/Adam, Variable_71/Adam_1, Variable_71/Adam_2, Variable_71/Adam_3, Variable_72, Variable_72/Adam, Variable_72/Adam_1, Variable_73, Variable_73/Adam, Variable_73/Adam_1, Variable_74, Variable_75, Variable_76, Variable_76/Adam, Variable_76/Adam_1, Variable_77, Variable_77/Adam, Variable_77/Adam_1, Variable_78, Variable_78/Adam, Variable_78/Adam_1, Variable_79, Variable_79/Adam, Variable_79/Adam_1, Variable_8, Variable_8/Adam, Variable_8/Adam_1, Variable_80, Variable_80/Adam, Variable_80/Adam_1, Variable_81, Variable_81/Adam, Variable_81/Adam_1, Variable_82, Variable_82/Adam, Variable_82/Adam_1, Variable_83, Variable_83/Adam, Variable_83/Adam_1, Variable_84, Variable_84/Adam, Variable_84/Adam_1, Variable_85, Variable_85/Adam, Variable_85/Adam_1, Variable_86, Variable_86/Adam, Variable_86/Adam_1, Variable_87, Variable_87/Adam, Variable_87/Adam_1, Variable_88, Variable_88/Adam, Variable_88/Adam_1, Variable_89, Variable_89/Adam, Variable_89/Adam_1, Variable_9, Variable_9/Adam, Variable_9/Adam_1, Variable_90, Variable_90/Adam, Variable_90/Adam_1, Variable_91, Variable_91/Adam, Variable_91/Adam_1, Variable_92, Variable_92/Adam, Variable_92/Adam_1, Variable_93, Variable_93/Adam, Variable_93/Adam_1, beta1_power, beta1_power_1, beta1_power_10, beta1_power_11, beta1_power_12, beta1_power_2, beta1_power_3, beta1_power_4, beta1_power_5, beta1_power_6, beta1_power_7, beta1_power_8, beta1_power_9, beta2_power, beta2_power_1, beta2_power_10, beta2_power_11, beta2_power_12, beta2_power_2, beta2_power_3, beta2_power_4, beta2_power_5, beta2_power_6, beta2_power_7, beta2_power_8, beta2_power_9)]]\n\nCaused by op 'save_23/SaveV2', defined at:\n  File \"/Users/yu-hsunchen/anaconda3/envs/tfdeeplearning/lib/python3.5/runpy.py\", line 193, in _run_module_as_main\n    \"__main__\", mod_spec)\n  File \"/Users/yu-hsunchen/anaconda3/envs/tfdeeplearning/lib/python3.5/runpy.py\", line 85, in _run_code\n    exec(code, run_globals)\n  File \"/Users/yu-hsunchen/anaconda3/envs/tfdeeplearning/lib/python3.5/site-packages/ipykernel_launcher.py\", line 16, in <module>\n    app.launch_new_instance()\n  File \"/Users/yu-hsunchen/anaconda3/envs/tfdeeplearning/lib/python3.5/site-packages/traitlets/config/application.py\", line 658, in launch_instance\n    app.start()\n  File \"/Users/yu-hsunchen/anaconda3/envs/tfdeeplearning/lib/python3.5/site-packages/ipykernel/kernelapp.py\", line 477, in start\n    ioloop.IOLoop.instance().start()\n  File \"/Users/yu-hsunchen/anaconda3/envs/tfdeeplearning/lib/python3.5/site-packages/zmq/eventloop/ioloop.py\", line 177, in start\n    super(ZMQIOLoop, self).start()\n  File \"/Users/yu-hsunchen/anaconda3/envs/tfdeeplearning/lib/python3.5/site-packages/tornado/ioloop.py\", line 888, in start\n    handler_func(fd_obj, events)\n  File \"/Users/yu-hsunchen/anaconda3/envs/tfdeeplearning/lib/python3.5/site-packages/tornado/stack_context.py\", line 277, in null_wrapper\n    return fn(*args, **kwargs)\n  File \"/Users/yu-hsunchen/anaconda3/envs/tfdeeplearning/lib/python3.5/site-packages/zmq/eventloop/zmqstream.py\", line 440, in _handle_events\n    self._handle_recv()\n  File \"/Users/yu-hsunchen/anaconda3/envs/tfdeeplearning/lib/python3.5/site-packages/zmq/eventloop/zmqstream.py\", line 472, in _handle_recv\n    self._run_callback(callback, msg)\n  File \"/Users/yu-hsunchen/anaconda3/envs/tfdeeplearning/lib/python3.5/site-packages/zmq/eventloop/zmqstream.py\", line 414, in _run_callback\n    callback(*args, **kwargs)\n  File \"/Users/yu-hsunchen/anaconda3/envs/tfdeeplearning/lib/python3.5/site-packages/tornado/stack_context.py\", line 277, in null_wrapper\n    return fn(*args, **kwargs)\n  File \"/Users/yu-hsunchen/anaconda3/envs/tfdeeplearning/lib/python3.5/site-packages/ipykernel/kernelbase.py\", line 283, in dispatcher\n    return self.dispatch_shell(stream, msg)\n  File \"/Users/yu-hsunchen/anaconda3/envs/tfdeeplearning/lib/python3.5/site-packages/ipykernel/kernelbase.py\", line 235, in dispatch_shell\n    handler(stream, idents, msg)\n  File \"/Users/yu-hsunchen/anaconda3/envs/tfdeeplearning/lib/python3.5/site-packages/ipykernel/kernelbase.py\", line 399, in execute_request\n    user_expressions, allow_stdin)\n  File \"/Users/yu-hsunchen/anaconda3/envs/tfdeeplearning/lib/python3.5/site-packages/ipykernel/ipkernel.py\", line 196, in do_execute\n    res = shell.run_cell(code, store_history=store_history, silent=silent)\n  File \"/Users/yu-hsunchen/anaconda3/envs/tfdeeplearning/lib/python3.5/site-packages/ipykernel/zmqshell.py\", line 533, in run_cell\n    return super(ZMQInteractiveShell, self).run_cell(*args, **kwargs)\n  File \"/Users/yu-hsunchen/anaconda3/envs/tfdeeplearning/lib/python3.5/site-packages/IPython/core/interactiveshell.py\", line 2698, in run_cell\n    interactivity=interactivity, compiler=compiler, result=result)\n  File \"/Users/yu-hsunchen/anaconda3/envs/tfdeeplearning/lib/python3.5/site-packages/IPython/core/interactiveshell.py\", line 2802, in run_ast_nodes\n    if self.run_code(code, result):\n  File \"/Users/yu-hsunchen/anaconda3/envs/tfdeeplearning/lib/python3.5/site-packages/IPython/core/interactiveshell.py\", line 2862, in run_code\n    exec(code_obj, self.user_global_ns, self.user_ns)\n  File \"<ipython-input-359-44e2f822d6e4>\", line 4, in <module>\n    saver = tf.train.Saver()\n  File \"/Users/yu-hsunchen/anaconda3/envs/tfdeeplearning/lib/python3.5/site-packages/tensorflow/python/training/saver.py\", line 1218, in __init__\n    self.build()\n  File \"/Users/yu-hsunchen/anaconda3/envs/tfdeeplearning/lib/python3.5/site-packages/tensorflow/python/training/saver.py\", line 1227, in build\n    self._build(self._filename, build_save=True, build_restore=True)\n  File \"/Users/yu-hsunchen/anaconda3/envs/tfdeeplearning/lib/python3.5/site-packages/tensorflow/python/training/saver.py\", line 1263, in _build\n    build_save=build_save, build_restore=build_restore)\n  File \"/Users/yu-hsunchen/anaconda3/envs/tfdeeplearning/lib/python3.5/site-packages/tensorflow/python/training/saver.py\", line 748, in _build_internal\n    save_tensor = self._AddSaveOps(filename_tensor, saveables)\n  File \"/Users/yu-hsunchen/anaconda3/envs/tfdeeplearning/lib/python3.5/site-packages/tensorflow/python/training/saver.py\", line 296, in _AddSaveOps\n    save = self.save_op(filename_tensor, saveables)\n  File \"/Users/yu-hsunchen/anaconda3/envs/tfdeeplearning/lib/python3.5/site-packages/tensorflow/python/training/saver.py\", line 239, in save_op\n    tensors)\n  File \"/Users/yu-hsunchen/anaconda3/envs/tfdeeplearning/lib/python3.5/site-packages/tensorflow/python/ops/gen_io_ops.py\", line 1163, in save_v2\n    shape_and_slices=shape_and_slices, tensors=tensors, name=name)\n  File \"/Users/yu-hsunchen/anaconda3/envs/tfdeeplearning/lib/python3.5/site-packages/tensorflow/python/framework/op_def_library.py\", line 787, in _apply_op_helper\n    op_def=op_def)\n  File \"/Users/yu-hsunchen/anaconda3/envs/tfdeeplearning/lib/python3.5/site-packages/tensorflow/python/framework/ops.py\", line 2956, in create_op\n    op_def=op_def)\n  File \"/Users/yu-hsunchen/anaconda3/envs/tfdeeplearning/lib/python3.5/site-packages/tensorflow/python/framework/ops.py\", line 1470, in __init__\n    self._traceback = self._graph._extract_stack()  # pylint: disable=protected-access\n\nResourceExhaustedError (see above for traceback): output/teeth_learn.data-00000-of-00001.tempstate13710403035858702885; No space left on device\n\t [[Node: save_23/SaveV2 = SaveV2[dtypes=[DT_FLOAT, DT_FLOAT, DT_FLOAT, DT_FLOAT, DT_FLOAT, DT_FLOAT, DT_FLOAT, DT_FLOAT, DT_FLOAT, DT_FLOAT, DT_FLOAT, DT_FLOAT, DT_FLOAT, DT_FLOAT, DT_FLOAT, DT_FLOAT, DT_FLOAT, DT_FLOAT, DT_FLOAT, DT_FLOAT, DT_FLOAT, DT_FLOAT, DT_FLOAT, DT_FLOAT, DT_FLOAT, DT_FLOAT, DT_FLOAT, DT_FLOAT, DT_FLOAT, DT_FLOAT, DT_FLOAT, DT_FLOAT, DT_FLOAT, DT_FLOAT, DT_FLOAT, DT_FLOAT, DT_FLOAT, DT_FLOAT, DT_FLOAT, DT_FLOAT, DT_FLOAT, DT_FLOAT, DT_FLOAT, DT_FLOAT, DT_FLOAT, DT_FLOAT, DT_FLOAT, DT_FLOAT, DT_FLOAT, DT_FLOAT, DT_FLOAT, DT_FLOAT, DT_FLOAT, DT_FLOAT, DT_FLOAT, DT_FLOAT, DT_FLOAT, DT_FLOAT, DT_FLOAT, DT_FLOAT, DT_FLOAT, DT_FLOAT, DT_FLOAT, DT_FLOAT, DT_FLOAT, DT_FLOAT, DT_FLOAT, DT_FLOAT, DT_FLOAT, DT_FLOAT, DT_FLOAT, DT_FLOAT, DT_FLOAT, DT_FLOAT, DT_FLOAT, DT_FLOAT, DT_FLOAT, DT_FLOAT, DT_FLOAT, DT_FLOAT, DT_FLOAT, DT_FLOAT, DT_FLOAT, DT_FLOAT, DT_FLOAT, DT_FLOAT, DT_FLOAT, DT_FLOAT, DT_FLOAT, DT_FLOAT, DT_FLOAT, DT_FLOAT, DT_FLOAT, DT_FLOAT, DT_FLOAT, DT_FLOAT, DT_FLOAT, DT_FLOAT, DT_FLOAT, DT_FLOAT, DT_FLOAT, DT_FLOAT, DT_FLOAT, DT_FLOAT, DT_FLOAT, DT_FLOAT, DT_FLOAT, DT_FLOAT, DT_FLOAT, DT_FLOAT, DT_FLOAT, DT_FLOAT, DT_FLOAT, DT_FLOAT, DT_FLOAT, DT_FLOAT, DT_FLOAT, DT_FLOAT, DT_FLOAT, DT_FLOAT, DT_FLOAT, DT_FLOAT, DT_FLOAT, DT_FLOAT, DT_FLOAT, DT_FLOAT, DT_FLOAT, DT_FLOAT, DT_FLOAT, DT_FLOAT, DT_FLOAT, DT_FLOAT, DT_FLOAT, DT_FLOAT, DT_FLOAT, DT_FLOAT, DT_FLOAT, DT_FLOAT, DT_FLOAT, DT_FLOAT, DT_FLOAT, DT_FLOAT, DT_FLOAT, DT_FLOAT, DT_FLOAT, DT_FLOAT, DT_FLOAT, DT_FLOAT, DT_FLOAT, DT_FLOAT, DT_FLOAT, DT_FLOAT, DT_FLOAT, DT_FLOAT, DT_FLOAT, DT_FLOAT, DT_FLOAT, DT_FLOAT, DT_FLOAT, DT_FLOAT, DT_FLOAT, DT_FLOAT, DT_FLOAT, DT_FLOAT, DT_FLOAT, DT_FLOAT, DT_FLOAT, DT_FLOAT, DT_FLOAT, DT_FLOAT, DT_FLOAT, DT_FLOAT, DT_FLOAT, DT_FLOAT, DT_FLOAT, DT_FLOAT, DT_FLOAT, DT_FLOAT, DT_FLOAT, DT_FLOAT, DT_FLOAT, DT_FLOAT, DT_FLOAT, DT_FLOAT, DT_FLOAT, DT_FLOAT, DT_FLOAT, DT_FLOAT, DT_FLOAT, DT_FLOAT, DT_FLOAT, DT_FLOAT, DT_FLOAT, DT_FLOAT, DT_FLOAT, DT_FLOAT, DT_FLOAT, DT_FLOAT, DT_FLOAT, DT_FLOAT, DT_FLOAT, DT_FLOAT, DT_FLOAT, DT_FLOAT, DT_FLOAT, DT_FLOAT, DT_FLOAT, DT_FLOAT, DT_FLOAT, DT_FLOAT, DT_FLOAT, DT_FLOAT, DT_FLOAT, DT_FLOAT, DT_FLOAT, DT_FLOAT, DT_FLOAT, DT_FLOAT, DT_FLOAT, DT_FLOAT, DT_FLOAT, DT_FLOAT, DT_FLOAT, DT_FLOAT, DT_FLOAT, DT_FLOAT, DT_FLOAT, DT_FLOAT, DT_FLOAT, DT_FLOAT, DT_FLOAT, DT_FLOAT, DT_FLOAT, DT_FLOAT, DT_FLOAT, DT_FLOAT, DT_FLOAT, DT_FLOAT, DT_FLOAT, DT_FLOAT, DT_FLOAT, DT_FLOAT, DT_FLOAT, DT_FLOAT, DT_FLOAT, DT_FLOAT, DT_FLOAT, DT_FLOAT, DT_FLOAT, DT_FLOAT, DT_FLOAT, DT_FLOAT, DT_FLOAT, DT_FLOAT, DT_FLOAT, DT_FLOAT, DT_FLOAT, DT_FLOAT, DT_FLOAT, DT_FLOAT, DT_FLOAT, DT_FLOAT, DT_FLOAT, DT_FLOAT, DT_FLOAT, DT_FLOAT, DT_FLOAT, DT_FLOAT, DT_FLOAT, DT_FLOAT, DT_FLOAT, DT_FLOAT, DT_FLOAT, DT_FLOAT, DT_FLOAT, DT_FLOAT, DT_FLOAT, DT_FLOAT, DT_FLOAT, DT_FLOAT, DT_FLOAT, DT_FLOAT, DT_FLOAT, DT_FLOAT, DT_FLOAT, DT_FLOAT, DT_FLOAT, DT_FLOAT, DT_FLOAT, DT_FLOAT, DT_FLOAT, DT_FLOAT, DT_FLOAT, DT_FLOAT, DT_FLOAT, DT_FLOAT, DT_FLOAT, DT_FLOAT, DT_FLOAT, DT_FLOAT, DT_FLOAT, DT_FLOAT, DT_FLOAT, DT_FLOAT, DT_FLOAT, DT_FLOAT, DT_FLOAT, DT_FLOAT, DT_FLOAT, DT_FLOAT, DT_FLOAT, DT_FLOAT, DT_FLOAT, DT_FLOAT, DT_FLOAT, DT_FLOAT, DT_FLOAT, DT_FLOAT, DT_FLOAT, DT_FLOAT, DT_FLOAT, DT_FLOAT, DT_FLOAT, DT_FLOAT, DT_FLOAT, DT_FLOAT, DT_FLOAT, DT_FLOAT], _device=\"/job:localhost/replica:0/task:0/device:CPU:0\"](_arg_save_23/Const_0_0, save_23/SaveV2/tensor_names, save_23/SaveV2/shape_and_slices, Variable, Variable/Adam, Variable/Adam_1, Variable_1, Variable_1/Adam, Variable_1/Adam_1, Variable_10, Variable_10/Adam, Variable_10/Adam_1, Variable_11, Variable_11/Adam, Variable_11/Adam_1, Variable_12, Variable_12/Adam, Variable_12/Adam_1, Variable_13, Variable_13/Adam, Variable_13/Adam_1, Variable_14, Variable_14/Adam, Variable_14/Adam_1, Variable_15, Variable_15/Adam, Variable_15/Adam_1, Variable_16, Variable_16/Adam, Variable_16/Adam_1, Variable_17, Variable_17/Adam, Variable_17/Adam_1, Variable_18, Variable_18/Adam, Variable_18/Adam_1, Variable_19, Variable_19/Adam, Variable_19/Adam_1, Variable_2, Variable_2/Adam, Variable_2/Adam_1, Variable_20, Variable_20/Adam, Variable_20/Adam_1, Variable_21, Variable_21/Adam, Variable_21/Adam_1, Variable_22, Variable_22/Adam, Variable_22/Adam_1, Variable_23, Variable_23/Adam, Variable_23/Adam_1, Variable_24, Variable_24/Adam, Variable_24/Adam_1, Variable_24/Adam_2, Variable_24/Adam_3, Variable_25, Variable_25/Adam, Variable_25/Adam_1, Variable_25/Adam_2, Variable_25/Adam_3, Variable_26, Variable_26/Adam, Variable_26/Adam_1, Variable_26/Adam_2, Variable_26/Adam_3, Variable_27, Variable_27/Adam, Variable_27/Adam_1, Variable_27/Adam_2, Variable_27/Adam_3, Variable_28, Variable_28/Adam, Variable_28/Adam_1, Variable_29, Variable_29/Adam, Variable_29/Adam_1, Variable_3, Variable_3/Adam, Variable_3/Adam_1, Variable_30, Variable_30/Adam, Variable_30/Adam_1, Variable_31, Variable_31/Adam, Variable_31/Adam_1, Variable_32, Variable_32/Adam, Variable_32/Adam_1, Variable_33, Variable_33/Adam, Variable_33/Adam_1, Variable_34, Variable_34/Adam, Variable_34/Adam_1, Variable_35, Variable_35/Adam, Variable_35/Adam_1, Variable_36, Variable_36/Adam, Variable_36/Adam_1, Variable_37, Variable_37/Adam, Variable_37/Adam_1, Variable_38, Variable_38/Adam, Variable_38/Adam_1, Variable_39, Variable_39/Adam, Variable_39/Adam_1, Variable_4, Variable_4/Adam, Variable_4/Adam_1, Variable_40, Variable_40/Adam, Variable_40/Adam_1, Variable_41, Variable_41/Adam, Variable_41/Adam_1, Variable_42, Variable_42/Adam, Variable_42/Adam_1, Variable_43, Variable_43/Adam, Variable_43/Adam_1, Variable_44, Variable_44/Adam, Variable_44/Adam_1, Variable_44/Adam_2, Variable_44/Adam_3, Variable_45, Variable_45/Adam, Variable_45/Adam_1, Variable_45/Adam_2, Variable_45/Adam_3, Variable_46, Variable_46/Adam, Variable_46/Adam_1, Variable_46/Adam_2, Variable_46/Adam_3, Variable_47, Variable_47/Adam, Variable_47/Adam_1, Variable_47/Adam_2, Variable_47/Adam_3, Variable_48, Variable_48/Adam, Variable_48/Adam_1, Variable_49, Variable_49/Adam, Variable_49/Adam_1, Variable_5, Variable_5/Adam, Variable_5/Adam_1, Variable_50, Variable_50/Adam, Variable_50/Adam_1, Variable_51, Variable_51/Adam, Variable_51/Adam_1, Variable_52, Variable_52/Adam, Variable_52/Adam_1, Variable_53, Variable_53/Adam, Variable_53/Adam_1, Variable_54, Variable_54/Adam, Variable_54/Adam_1, Variable_55, Variable_55/Adam, Variable_55/Adam_1, Variable_56, Variable_56/Adam, Variable_56/Adam_1, Variable_57, Variable_57/Adam, Variable_57/Adam_1, Variable_58, Variable_58/Adam, Variable_58/Adam_1, Variable_59, Variable_59/Adam, Variable_59/Adam_1, Variable_6, Variable_6/Adam, Variable_6/Adam_1, Variable_60, Variable_60/Adam, Variable_60/Adam_1, Variable_61, Variable_61/Adam, Variable_61/Adam_1, Variable_62, Variable_62/Adam, Variable_62/Adam_1, Variable_63, Variable_63/Adam, Variable_63/Adam_1, Variable_64, Variable_64/Adam, Variable_64/Adam_1, Variable_64/Adam_2, Variable_64/Adam_3, Variable_65, Variable_65/Adam, Variable_65/Adam_1, Variable_65/Adam_2, Variable_65/Adam_3, Variable_66, Variable_66/Adam, Variable_66/Adam_1, Variable_66/Adam_2, Variable_66/Adam_3, Variable_67, Variable_67/Adam, Variable_67/Adam_1, Variable_67/Adam_2, Variable_67/Adam_3, Variable_68, Variable_69, Variable_7, Variable_7/Adam, Variable_7/Adam_1, Variable_70, Variable_70/Adam, Variable_70/Adam_1, Variable_70/Adam_2, Variable_70/Adam_3, Variable_71, Variable_71/Adam, Variable_71/Adam_1, Variable_71/Adam_2, Variable_71/Adam_3, Variable_72, Variable_72/Adam, Variable_72/Adam_1, Variable_73, Variable_73/Adam, Variable_73/Adam_1, Variable_74, Variable_75, Variable_76, Variable_76/Adam, Variable_76/Adam_1, Variable_77, Variable_77/Adam, Variable_77/Adam_1, Variable_78, Variable_78/Adam, Variable_78/Adam_1, Variable_79, Variable_79/Adam, Variable_79/Adam_1, Variable_8, Variable_8/Adam, Variable_8/Adam_1, Variable_80, Variable_80/Adam, Variable_80/Adam_1, Variable_81, Variable_81/Adam, Variable_81/Adam_1, Variable_82, Variable_82/Adam, Variable_82/Adam_1, Variable_83, Variable_83/Adam, Variable_83/Adam_1, Variable_84, Variable_84/Adam, Variable_84/Adam_1, Variable_85, Variable_85/Adam, Variable_85/Adam_1, Variable_86, Variable_86/Adam, Variable_86/Adam_1, Variable_87, Variable_87/Adam, Variable_87/Adam_1, Variable_88, Variable_88/Adam, Variable_88/Adam_1, Variable_89, Variable_89/Adam, Variable_89/Adam_1, Variable_9, Variable_9/Adam, Variable_9/Adam_1, Variable_90, Variable_90/Adam, Variable_90/Adam_1, Variable_91, Variable_91/Adam, Variable_91/Adam_1, Variable_92, Variable_92/Adam, Variable_92/Adam_1, Variable_93, Variable_93/Adam, Variable_93/Adam_1, beta1_power, beta1_power_1, beta1_power_10, beta1_power_11, beta1_power_12, beta1_power_2, beta1_power_3, beta1_power_4, beta1_power_5, beta1_power_6, beta1_power_7, beta1_power_8, beta1_power_9, beta2_power, beta2_power_1, beta2_power_10, beta2_power_11, beta2_power_12, beta2_power_2, beta2_power_3, beta2_power_4, beta2_power_5, beta2_power_6, beta2_power_7, beta2_power_8, beta2_power_9)]]\n"
     ]
    }
   ],
   "source": [
    "with tf.Session() as sess:\n",
    "    sess.run(tf.global_variables_initializer())\n",
    "    index = 0\n",
    "    saver = tf.train.Saver()\n",
    "    save_path='./output/teeth_learn'\n",
    "\n",
    "    for i in range(5000):\n",
    "        batch_size = 2\n",
    "        x_dataset = train_dataset[index:index+batch_size].reshape(-1, IMG_SIZE, IMG_SIZE, 3)\n",
    "        y_dataset = label_dataset[index:index+batch_size].reshape(-1, len(part_list))\n",
    "        f_dataset = feature_dataset[index:index+batch_size].reshape(-1, FEATURE_SIZE)\n",
    "\n",
    "        \n",
    "        index = (index+batch_size) % len(train_dataset)\n",
    "        \n",
    "        sess.run(train, feed_dict={x: x_dataset, y_true: y_dataset, x_feat: f_dataset, hold_prob: 0.5})\n",
    "        \n",
    "        # PRINT OUT A MESSAGE EVERY 100 STEPS\n",
    "        if i%100 == 0:\n",
    "            \n",
    "            print('Currently on step {}'.format(i))\n",
    "            print('Accuracy is:')\n",
    "            # Test the Train Model\n",
    "            matches = tf.equal(tf.argmax(y_pred,1),tf.argmax(y_true,1))\n",
    "\n",
    "            acc = tf.reduce_mean(tf.cast(matches,tf.float32))\n",
    "\n",
    "            print(sess.run(acc,feed_dict={x:test_dataset, y_true:test_label, x_feat:test_feature, hold_prob:1.0}))\n",
    "            print('\\n')\n",
    "            \n",
    "            saver.save(sess, save_path, write_meta_graph=False)"
   ]
  },
  {
   "cell_type": "code",
   "execution_count": null,
   "metadata": {
    "collapsed": true
   },
   "outputs": [],
   "source": []
  }
 ],
 "metadata": {
  "kernelspec": {
   "display_name": "Python 3",
   "language": "python",
   "name": "python3"
  },
  "language_info": {
   "codemirror_mode": {
    "name": "ipython",
    "version": 3
   },
   "file_extension": ".py",
   "mimetype": "text/x-python",
   "name": "python",
   "nbconvert_exporter": "python",
   "pygments_lexer": "ipython3",
   "version": "3.5.4"
  }
 },
 "nbformat": 4,
 "nbformat_minor": 2
}
